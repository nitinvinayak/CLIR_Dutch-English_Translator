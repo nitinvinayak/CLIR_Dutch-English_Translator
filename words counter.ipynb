{
 "cells": [
  {
   "cell_type": "code",
   "execution_count": 4,
   "metadata": {},
   "outputs": [
    {
     "name": "stdout",
     "output_type": "stream",
     "text": [
      "527420\n"
     ]
    }
   ],
   "source": [
    "dfile=open(\"Dutch_Updated.txt\",\"r\",encoding=\"utf-8\")\n",
    "sentences=dfile.readlines()\n",
    "count=0\n",
    "d={}\n",
    "for i,sen in enumerate(sentences):\n",
    "    terms=sen.split()\n",
    "    for term in terms:\n",
    "        if term not in d.keys() and term not in string.punctuation:\n",
    "            d[term]=1\n",
    "        elif term in d.keys() and term not in string.punctuation:\n",
    "            d[term]=+1\n",
    "        else:\n",
    "            pass\n",
    "print(len(d))"
   ]
  },
  {
   "cell_type": "code",
   "execution_count": 3,
   "metadata": {},
   "outputs": [],
   "source": [
    "import string"
   ]
  },
  {
   "cell_type": "code",
   "execution_count": 4,
   "metadata": {},
   "outputs": [
    {
     "name": "stdout",
     "output_type": "stream",
     "text": [
      "303231\n"
     ]
    }
   ],
   "source": [
    "dfile=open(\"English_Updated.txt\",\"r\",encoding=\"utf-8\")\n",
    "sentences=dfile.readlines()\n",
    "count=0\n",
    "d={}\n",
    "for i,sen in enumerate(sentences):\n",
    "    terms=sen.split()\n",
    "    for term in terms:\n",
    "        if term not in d.keys() and term not in string.punctuation:\n",
    "            d[term]=1\n",
    "        elif term in d.keys() and term not in string.punctuation:\n",
    "            d[term]=+1\n",
    "        else:\n",
    "            pass\n",
    "print(len(d))"
   ]
  },
  {
   "cell_type": "code",
   "execution_count": 8,
   "metadata": {},
   "outputs": [],
   "source": [
    "import numpy as np"
   ]
  },
  {
   "cell_type": "code",
   "execution_count": 11,
   "metadata": {},
   "outputs": [
    {
     "ename": "MemoryError",
     "evalue": "Unable to allocate array with shape (52742, 30323) and data type float64",
     "output_type": "error",
     "traceback": [
      "\u001b[0;31m---------------------------------------------------------------------------\u001b[0m",
      "\u001b[0;31mMemoryError\u001b[0m                               Traceback (most recent call last)",
      "\u001b[0;32m<ipython-input-11-b6a963356d74>\u001b[0m in \u001b[0;36m<module>\u001b[0;34m\u001b[0m\n\u001b[0;32m----> 1\u001b[0;31m \u001b[0ma\u001b[0m\u001b[0;34m=\u001b[0m\u001b[0mnp\u001b[0m\u001b[0;34m.\u001b[0m\u001b[0mzeros\u001b[0m\u001b[0;34m(\u001b[0m\u001b[0;34m(\u001b[0m\u001b[0;36m52742\u001b[0m\u001b[0;34m,\u001b[0m\u001b[0;36m30323\u001b[0m\u001b[0;34m)\u001b[0m\u001b[0;34m)\u001b[0m\u001b[0;34m\u001b[0m\u001b[0;34m\u001b[0m\u001b[0m\n\u001b[0m",
      "\u001b[0;31mMemoryError\u001b[0m: Unable to allocate array with shape (52742, 30323) and data type float64"
     ]
    }
   ],
   "source": [
    "a=np.zeros((527420,303231))"
   ]
  },
  {
   "cell_type": "code",
   "execution_count": null,
   "metadata": {},
   "outputs": [],
   "source": [
    "dfile=open(\"Dutch_Updated.txt\",\"r\",encoding=\"utf-8\")\n",
    "efile=open(\"English_Updated.txt\",\"r\",encoding=\"utf-8\")\n",
    "d_sentences=dfile.readlines()\n",
    "e_sentences=efile.readlines()\n",
    "#alignments=[]\n",
    "sum=0\n",
    "for i in range(len(d_sentences)):\n",
    "    #alignments.append(pow(len(d_sentences[i].split()),len(e_sentences[i].split()))\n",
    "    sum+=pow(len(d_sentences[i].split()),len(e_sentences[i].split()))/1000000000\n",
    "    \n",
    "print (sum)"
   ]
  },
  {
   "cell_type": "code",
   "execution_count": null,
   "metadata": {},
   "outputs": [],
   "source": [
    "sum\n"
   ]
  },
  {
   "cell_type": "code",
   "execution_count": null,
   "metadata": {},
   "outputs": [],
   "source": [
    "dfile=open(\"Dutch_Updated.txt\",\"r\",encoding=\"utf-8\")\n",
    "efile=open(\"English_Updated.txt\",\"r\",encoding=\"utf-8\")"
   ]
  },
  {
   "cell_type": "code",
   "execution_count": 6,
   "metadata": {},
   "outputs": [],
   "source": [
    "for i in d.keys():\n",
    "    if d[i]>150:\n",
    "        print(d[i],i)"
   ]
  },
  {
   "cell_type": "code",
   "execution_count": null,
   "metadata": {},
   "outputs": [],
   "source": []
  }
 ],
 "metadata": {
  "kernelspec": {
   "display_name": "Python 3",
   "language": "python",
   "name": "python3"
  },
  "language_info": {
   "codemirror_mode": {
    "name": "ipython",
    "version": 3
   },
   "file_extension": ".py",
   "mimetype": "text/x-python",
   "name": "python",
   "nbconvert_exporter": "python",
   "pygments_lexer": "ipython3",
   "version": "3.6.5"
  }
 },
 "nbformat": 4,
 "nbformat_minor": 2
}
