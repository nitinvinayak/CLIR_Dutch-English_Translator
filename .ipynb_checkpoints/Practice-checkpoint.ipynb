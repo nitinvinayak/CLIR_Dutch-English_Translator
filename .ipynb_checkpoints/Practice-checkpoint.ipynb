{
 "cells": [
  {
   "cell_type": "code",
   "execution_count": 115,
   "metadata": {},
   "outputs": [],
   "source": [
    "h = [\"kutta bhauka lal\",\"kutta kaata hara\",\"bhalu kaata lal\"]\n",
    "e = [\"dog barked red\",\"dog bit green\",\"bear bit red\"]"
   ]
  },
  {
   "cell_type": "code",
   "execution_count": 116,
   "metadata": {},
   "outputs": [],
   "source": [
    "l = h[0].split()\n",
    "l.extend(h[1].split())\n",
    "l.extend(h[2].split())\n",
    "hv = list(set(l))\n",
    "l = e[0].split()\n",
    "l.extend(e[1].split())\n",
    "l.extend(e[2].split())\n",
    "ev = list(set(l))"
   ]
  },
  {
   "cell_type": "code",
   "execution_count": 125,
   "metadata": {},
   "outputs": [],
   "source": [
    "def init_prob():\n",
    "    p = {}\n",
    "    k = []\n",
    "    for i in ev:\n",
    "        for j in hv:\n",
    "            k = k + [i + \"|\" + j]\n",
    "    for i in range(len(k)):\n",
    "        \n",
    "###print(k[i] + \":\" + str(p[k[i]]))"
   ]
  },
  {
   "cell_type": "code",
   "execution_count": 126,
   "metadata": {},
   "outputs": [],
   "source": [
    "init_prob()"
   ]
  },
  {
   "cell_type": "code",
   "execution_count": 127,
   "metadata": {},
   "outputs": [],
   "source": [
    "def init_alignments():\n",
    "    al = [[],[],[]]\n",
    "    for i in range(len(h)):\n",
    "        hl = h[i].split()\n",
    "        el = e[i].split()\n",
    "        for j in range(len(el)):\n",
    "            for q in range(len(hl)):\n",
    "                al[i] = al[i] + [el[j] + \"|\" + hl[q]]\n",
    "                p[al[i]] = 1/(len(ev))\n",
    "    return al"
   ]
  },
  {
   "cell_type": "code",
   "execution_count": 128,
   "metadata": {
    "scrolled": true
   },
   "outputs": [
    {
     "name": "stdout",
     "output_type": "stream",
     "text": [
      "[['dog|kutta', 'dog|bhauka', 'dog|lal', 'barked|kutta', 'barked|bhauka', 'barked|lal', 'red|kutta', 'red|bhauka', 'red|lal'], ['dog|kutta', 'dog|kaata', 'dog|hara', 'bit|kutta', 'bit|kaata', 'bit|hara', 'green|kutta', 'green|kaata', 'green|hara'], ['bear|bhalu', 'bear|kaata', 'bear|lal', 'bit|bhalu', 'bit|kaata', 'bit|lal', 'red|bhalu', 'red|kaata', 'red|lal']]\n"
     ]
    }
   ],
   "source": [
    "al = init_alignments()\n",
    "print(al)"
   ]
  },
  {
   "cell_type": "code",
   "execution_count": null,
   "metadata": {},
   "outputs": [],
   "source": [
    "def prob_alingments():\n",
    "    for j in range(len(al[0])):\n",
    "        "
   ]
  }
 ],
 "metadata": {
  "kernelspec": {
   "display_name": "Python 3",
   "language": "python",
   "name": "python3"
  },
  "language_info": {
   "codemirror_mode": {
    "name": "ipython",
    "version": 3
   },
   "file_extension": ".py",
   "mimetype": "text/x-python",
   "name": "python",
   "nbconvert_exporter": "python",
   "pygments_lexer": "ipython3",
   "version": "3.7.4"
  }
 },
 "nbformat": 4,
 "nbformat_minor": 2
}
