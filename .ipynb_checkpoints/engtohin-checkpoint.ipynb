{
 "cells": [
  {
   "cell_type": "code",
   "execution_count": 4,
   "metadata": {},
   "outputs": [],
   "source": [
    "h = [\"kutta bhauka\",\"kutta kaata\"]\n",
    "e = [\"dog barked\",\"dog bit\"]"
   ]
  },
  {
   "cell_type": "code",
   "execution_count": 5,
   "metadata": {},
   "outputs": [
    {
     "name": "stdout",
     "output_type": "stream",
     "text": [
      "['bit', 'barked', 'dog']\n"
     ]
    }
   ],
   "source": [
    "l = h[0].split()\n",
    "l.extend(h[1].split())\n",
    "hv = list(set(l))\n",
    "l = e[0].split()\n",
    "l.extend(e[1].split())\n",
    "ev = list(set(l))"
   ]
  },
  {
   "cell_type": "code",
   "execution_count": 45,
   "metadata": {},
   "outputs": [],
   "source": [
    "def init_prob():\n",
    "    p = {}\n",
    "    al = [[],[]]\n",
    "    for i in range(len(h)):\n",
    "        for j in h[i].split():\n",
    "            for k in e[i].split():\n",
    "                al[i].append(k + \"|\" + j)\n",
    "                p[k + \"|\" + j] = 1/(len(hv))\n",
    "    print(al)\n",
    "    print(p)"
   ]
  },
  {
   "cell_type": "code",
   "execution_count": 46,
   "metadata": {},
   "outputs": [
    {
     "name": "stdout",
     "output_type": "stream",
     "text": [
      "[['dog|kutta', 'barked|kutta', 'dog|bhauka', 'barked|bhauka'], ['dog|kutta', 'bit|kutta', 'dog|kaata', 'bit|kaata']]\n",
      "{'dog|kutta': 0.3333333333333333, 'barked|kutta': 0.3333333333333333, 'dog|bhauka': 0.3333333333333333, 'barked|bhauka': 0.3333333333333333, 'bit|kutta': 0.3333333333333333, 'dog|kaata': 0.3333333333333333, 'bit|kaata': 0.3333333333333333}\n"
     ]
    }
   ],
   "source": [
    "init_prob()"
   ]
  },
  {
   "cell_type": "code",
   "execution_count": null,
   "metadata": {},
   "outputs": [],
   "source": [
    "def init_align():\n",
    "    for i in range(len(e)):\n",
    "        for j in ev.split[i]:\n",
    "            p[]"
   ]
  },
  {
   "cell_type": "code",
   "execution_count": null,
   "metadata": {},
   "outputs": [],
   "source": []
  }
 ],
 "metadata": {
  "kernelspec": {
   "display_name": "Python 3",
   "language": "python",
   "name": "python3"
  },
  "language_info": {
   "codemirror_mode": {
    "name": "ipython",
    "version": 3
   },
   "file_extension": ".py",
   "mimetype": "text/x-python",
   "name": "python",
   "nbconvert_exporter": "python",
   "pygments_lexer": "ipython3",
   "version": "3.7.4"
  }
 },
 "nbformat": 4,
 "nbformat_minor": 2
}
