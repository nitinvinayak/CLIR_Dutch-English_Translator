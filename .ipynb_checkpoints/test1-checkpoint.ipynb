{
 "cells": [
  {
   "cell_type": "code",
   "execution_count": 10,
   "metadata": {},
   "outputs": [
    {
     "name": "stdout",
     "output_type": "stream",
     "text": [
      "106\n",
      "106\n",
      "done\n"
     ]
    }
   ],
   "source": [
    "inpfile=open('English.txt','r',encoding=\"utf8\")\n",
    "inpfile1=open('Dutch.txt','r',encoding=\"utf8\")\n",
    "l=inpfile.readlines()\n",
    "l1=inpfile1.readlines()\n",
    "l=l[:10]\n",
    "l1=l1[:10]\n",
    "inpfile.close()\n",
    "inpfile1.close()\n",
    "print(\"done\")"
   ]
  },
  {
   "cell_type": "code",
   "execution_count": null,
   "metadata": {},
   "outputs": [],
   "source": [
    "inpfile=open('English2.txt','r',encoding=\"utf8\")\n",
    "inpfile1=open('Dutch2.txt','r',encoding=\"utf8\")\n",
    "l=inpfile.readlines()\n",
    "l1=inpfile1.readlines()\n",
    "\n",
    "while(!inpfile):\n",
    "    \n",
    "\n",
    "inpfile.close()\n",
    "inpfile1.close()"
   ]
  },
  {
   "cell_type": "code",
   "execution_count": null,
   "metadata": {},
   "outputs": [],
   "source": []
  }
 ],
 "metadata": {
  "kernelspec": {
   "display_name": "Python 3",
   "language": "python",
   "name": "python3"
  },
  "language_info": {
   "codemirror_mode": {
    "name": "ipython",
    "version": 3
   },
   "file_extension": ".py",
   "mimetype": "text/x-python",
   "name": "python",
   "nbconvert_exporter": "python",
   "pygments_lexer": "ipython3",
   "version": "3.6.5"
  }
 },
 "nbformat": 4,
 "nbformat_minor": 2
}
