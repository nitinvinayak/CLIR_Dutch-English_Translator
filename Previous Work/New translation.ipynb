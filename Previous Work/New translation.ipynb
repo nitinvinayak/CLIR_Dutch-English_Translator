{
 "cells": [
  {
   "cell_type": "code",
   "execution_count": 1,
   "metadata": {},
   "outputs": [],
   "source": [
    "import time\n",
    "import os\n"
   ]
  },
  {
   "cell_type": "code",
   "execution_count": 2,
   "metadata": {},
   "outputs": [],
   "source": [
    "from collections import defaultdict\n",
    "\n",
    "from sqlalchemy import create_engine\n",
    "from sqlalchemy.ext.declarative import declarative_base\n",
    "from sqlalchemy import create_engine, MetaData, Table, Column, Integer, String, Float,PrimaryKeyConstraint"
   ]
  },
  {
   "cell_type": "code",
   "execution_count": 3,
   "metadata": {},
   "outputs": [],
   "source": [
    "ENGLISH_FILE=\"English2.txt\"\n",
    "DUTCH_FILE=\"Dutch2.txt\""
   ]
  },
  {
   "cell_type": "code",
   "execution_count": 4,
   "metadata": {},
   "outputs": [],
   "source": [
    "def remove_punctuations(sentence):\n",
    "    punctuations = [ ':','.' , '\\\\' , '/' , ',' , ';' , '(' , ')' , '\"', \"\\'\",'1','2','3','4','5','6','7','8','9','0','?']\n",
    "    for punc in punctuations:\n",
    "        sentence = sentence.replace(punc, \"\")\n",
    "    return sentence\n",
    "\n",
    "def sentence_format(sentencesList):\n",
    "    for i in range(len(sentencesList)):\n",
    "        sentencesList[i] = remove_punctuations(sentencesList[i])\n",
    "        sentencesList[i] = sentencesList[i][:-1].lower()          #remove new line character and lowercase alphabets\n",
    "    return sentencesList\n",
    "\n",
    "def create_term_dict(sentencesList):\n",
    "    termDictionary = defaultdict(set)\n",
    "    for index in range(len(sentencesList)):\n",
    "        terms = sentencesList[index].split()\n",
    "        for term in terms:\n",
    "            termDictionary[term].add(index)\n",
    "    return termDictionary"
   ]
  },
  {
   "cell_type": "code",
   "execution_count": 5,
   "metadata": {},
   "outputs": [],
   "source": [
    "#creating file handles\n",
    "engFile=open(ENGLISH_FILE,\"r\",encoding=\"utf-8\")\n",
    "dutchFile=open(DUTCH_FILE,\"r\",encoding=\"utf-8\")\n",
    "\n",
    "#unformatted sentences\n",
    "engSentences=engFile.readlines()\n",
    "dutchSentences=dutchFile.readlines()\n",
    "\n",
    "#closing file handles\n",
    "engFile.close()\n",
    "dutchFile.close()\n",
    "\n",
    "#formatted sentences\n",
    "engSentences=sentence_format(engSentences)\n",
    "dutchSentences=sentence_format(dutchSentences)\n",
    "\n",
    "#creating term-index dictionary\n",
    "engTermIndex=create_term_dict(engSentences)\n",
    "dutchTermIndex=create_term_dict(dutchSentences)\n",
    "\n",
    "#print(dutchTermDictionary,engTermDictionary)"
   ]
  },
  {
   "cell_type": "code",
   "execution_count": null,
   "metadata": {},
   "outputs": [],
   "source": []
  },
  {
   "cell_type": "code",
   "execution_count": 8,
   "metadata": {},
   "outputs": [],
   "source": [
    "def createTable():\n",
    "\n",
    "    engine = create_engine('sqlite:///PROB_TABLE.db', echo = True)\n",
    "    meta = MetaData()\n",
    "\n",
    "    students = Table(\n",
    "       'probTable', meta, \n",
    "       Column('english_dutch', String), \n",
    "       Column('probability', Float),\n",
    "       PrimaryKeyConstraint('english_dutch', name='probTable')\n",
    "    )\n",
    "    meta.create_all(engine)\n",
    "\n",
    "        \n",
    "\n",
    "     \n",
    "        \n",
    "                             "
   ]
  },
  {
   "cell_type": "code",
   "execution_count": 9,
   "metadata": {},
   "outputs": [
    {
     "name": "stdout",
     "output_type": "stream",
     "text": [
      "2019-11-03 16:28:29,572 INFO sqlalchemy.engine.base.Engine SELECT CAST('test plain returns' AS VARCHAR(60)) AS anon_1\n",
      "2019-11-03 16:28:29,578 INFO sqlalchemy.engine.base.Engine ()\n",
      "2019-11-03 16:28:29,580 INFO sqlalchemy.engine.base.Engine SELECT CAST('test unicode returns' AS VARCHAR(60)) AS anon_1\n",
      "2019-11-03 16:28:29,581 INFO sqlalchemy.engine.base.Engine ()\n",
      "2019-11-03 16:28:29,583 INFO sqlalchemy.engine.base.Engine PRAGMA main.table_info(\"probTable\")\n",
      "2019-11-03 16:28:29,585 INFO sqlalchemy.engine.base.Engine ()\n",
      "2019-11-03 16:28:29,588 INFO sqlalchemy.engine.base.Engine PRAGMA temp.table_info(\"probTable\")\n",
      "2019-11-03 16:28:29,589 INFO sqlalchemy.engine.base.Engine ()\n",
      "2019-11-03 16:28:29,591 INFO sqlalchemy.engine.base.Engine \n",
      "CREATE TABLE \"probTable\" (\n",
      "\tenglish_dutch VARCHAR NOT NULL, \n",
      "\tprobability FLOAT, \n",
      "\tCONSTRAINT \"probTable\" PRIMARY KEY (english_dutch)\n",
      ")\n",
      "\n",
      "\n",
      "2019-11-03 16:28:29,596 INFO sqlalchemy.engine.base.Engine ()\n",
      "2019-11-03 16:28:29,717 INFO sqlalchemy.engine.base.Engine COMMIT\n"
     ]
    }
   ],
   "source": [
    "createTable()"
   ]
  },
  {
   "cell_type": "code",
   "execution_count": null,
   "metadata": {},
   "outputs": [],
   "source": []
  }
 ],
 "metadata": {
  "kernelspec": {
   "display_name": "Python 3",
   "language": "python",
   "name": "python3"
  },
  "language_info": {
   "codemirror_mode": {
    "name": "ipython",
    "version": 3
   },
   "file_extension": ".py",
   "mimetype": "text/x-python",
   "name": "python",
   "nbconvert_exporter": "python",
   "pygments_lexer": "ipython3",
   "version": "3.6.5"
  }
 },
 "nbformat": 4,
 "nbformat_minor": 2
}
