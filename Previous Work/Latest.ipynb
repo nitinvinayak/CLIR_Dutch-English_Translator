{
 "cells": [
  {
   "cell_type": "code",
   "execution_count": null,
   "metadata": {
    "colab": {},
    "colab_type": "code",
    "id": "fgMyFb43lj_B"
   },
   "outputs": [],
   "source": [
    "#import numpy as np\n",
    "#import pandas as pd\n",
    "#import matplotlib.pyplot as plt\n",
    "#import seaborn as sns\n",
    "import time\n",
    "from sqlalchemy import create_engine, MetaData, Table, Column, Integer, String, Float,PrimaryKeyConstraint"
   ]
  },
  {
   "cell_type": "markdown",
   "metadata": {
    "colab_type": "text",
    "id": "KnLdFqPflj_I"
   },
   "source": [
    "Initialising the source files containing the English and Dutch Corpus'."
   ]
  },
  {
   "cell_type": "code",
   "execution_count": null,
   "metadata": {
    "colab": {},
    "colab_type": "code",
    "id": "CMTuTGWmoB8T"
   },
   "outputs": [],
   "source": [
    "def make_dict_dutch(foreign_l,num_dict_dutch):\n",
    "    c=1\n",
    "    for i in foreign_l.keys():\n",
    "        num_dict_dutch[i]=c\n",
    "        c+=1\n",
    "    return num_dict_dutch\n",
    "        "
   ]
  },
  {
   "cell_type": "code",
   "execution_count": null,
   "metadata": {
    "colab": {},
    "colab_type": "code",
    "id": "v7fFAnzPlj_J"
   },
   "outputs": [],
   "source": [
    "ENG_FILE_SRC = \"/media/ieshaan/Windows/Users/IESHAAN .LAPTOP-U40CT3MF/Downloads/Dataset-20191031T070748Z-001/Dataset/English.txt\"\n",
    "DUTCH_FILE_SRC = \"/media/ieshaan/Windows/Users/IESHAAN .LAPTOP-U40CT3MF/Downloads/Dataset-20191031T070748Z-001/Dataset/Dutch.txt\""
   ]
  },
  {
   "cell_type": "code",
   "execution_count": null,
   "metadata": {
    "colab": {},
    "colab_type": "code",
    "id": "x0grfovalj_M"
   },
   "outputs": [],
   "source": [
    "# Test Files\n",
    "\n",
    "ENG_TEST_FILE = 'eng.txt'\n",
    "DUTCH_TEST_FILE = 'dutch.txt'"
   ]
  },
  {
   "cell_type": "code",
   "execution_count": null,
   "metadata": {
    "colab": {},
    "colab_type": "code",
    "id": "U_swj6OGkHwa"
   },
   "outputs": [],
   "source": [
    "# Teensy Test files\n",
    "\n",
    "ENG_SMALL = 'English2.txt'\n",
    "DUTCH_SMALL = 'Dutch2.txt'"
   ]
  },
  {
   "cell_type": "markdown",
   "metadata": {
    "colab_type": "text",
    "id": "c5RSS0UTlj_P"
   },
   "source": [
    "PROB_FILE -> Contains data of translation probabilities t(e|f).\n",
    "COUNT_FILE -> Contains data of counts c(e|f)"
   ]
  },
  {
   "cell_type": "code",
   "execution_count": null,
   "metadata": {
    "colab": {},
    "colab_type": "code",
    "id": "J8vBCuFhlj_S"
   },
   "outputs": [],
   "source": [
    "PROB_FILE = 'condProb.txt'\n",
    "COUNT_FILE = 'count.txt'"
   ]
  },
  {
   "cell_type": "code",
   "execution_count": null,
   "metadata": {
    "colab": {
     "base_uri": "https://localhost:8080/",
     "height": 183
    },
    "colab_type": "code",
    "executionInfo": {
     "elapsed": 1260,
     "status": "error",
     "timestamp": 1572714447694,
     "user": {
      "displayName": "SHEFALI TRIPATHI",
      "photoUrl": "",
      "userId": "08624423980567502091"
     },
     "user_tz": -330
    },
    "id": "3s4N-qS_lj_c",
    "outputId": "f0242c09-ca5f-4643-af76-76be4dc0bf40"
   },
   "outputs": [],
   "source": [
    "e_file = open(ENG_SMALL,'r',encoding = 'utf-8')\n",
    "d_file = open(DUTCH_SMALL,'r',encoding = 'utf-8')"
   ]
  },
  {
   "cell_type": "code",
   "execution_count": null,
   "metadata": {
    "colab": {},
    "colab_type": "code",
    "id": "XzkILl6ulj_h"
   },
   "outputs": [],
   "source": [
    "dutch = d_file.readlines()\n",
    "eng = e_file.readlines()"
   ]
  },
  {
   "cell_type": "markdown",
   "metadata": {
    "colab_type": "text",
    "id": "g0KaxZNdlj_n"
   },
   "source": [
    "Calculation of total number of sentences in foreign language."
   ]
  },
  {
   "cell_type": "code",
   "execution_count": null,
   "metadata": {
    "colab": {},
    "colab_type": "code",
    "id": "Dfot602Plj_q"
   },
   "outputs": [],
   "source": [
    "total_no_of_sentences = len(dutch)"
   ]
  },
  {
   "cell_type": "markdown",
   "metadata": {
    "colab_type": "text",
    "id": "lFD6Z7oplj_x"
   },
   "source": [
    "The function given below removes all punctuation as well as numbers from the text for ease of translation."
   ]
  },
  {
   "cell_type": "code",
   "execution_count": null,
   "metadata": {
    "colab": {},
    "colab_type": "code",
    "id": "JFerawQulj_y"
   },
   "outputs": [],
   "source": [
    "def remove_punc(l):\n",
    "    for i in range(len(l)):\n",
    "        l[i] = remove_stuff(l[i])\n",
    "        l[i] = l[i][:-1]\n",
    "    return l"
   ]
  },
  {
   "cell_type": "code",
   "execution_count": null,
   "metadata": {
    "colab": {},
    "colab_type": "code",
    "id": "pJdzuKyAlj_3"
   },
   "outputs": [],
   "source": [
    "def remove_stuff(l):\n",
    "    a = [ '.' , '\\\\' , '/' , ',' , ';' , '(' , ')' , '\"', \"\\'\",'1','2','3','4','5','6','7','8','9','0','?']\n",
    "    for i in a:\n",
    "        l = l.replace(i, \"\")\n",
    "    return l"
   ]
  },
  {
   "cell_type": "code",
   "execution_count": null,
   "metadata": {
    "colab": {},
    "colab_type": "code",
    "id": "42rQWa4Ulj_7"
   },
   "outputs": [],
   "source": [
    "dutch2 = remove_punc(dutch)\n",
    "eng2 = remove_punc(eng)"
   ]
  },
  {
   "cell_type": "code",
   "execution_count": null,
   "metadata": {
    "colab": {},
    "colab_type": "code",
    "id": "WacaBoGHlj_-"
   },
   "outputs": [],
   "source": [
    "from collections import defaultdict"
   ]
  },
  {
   "cell_type": "markdown",
   "metadata": {
    "colab_type": "text",
    "id": "VuuZJ_olmv-z"
   },
   "source": [
    "Intialising the dutch and english dictionaries. **Key** -> Words and **Value** -> List of Line Numbers the words occurs in."
   ]
  },
  {
   "cell_type": "code",
   "execution_count": null,
   "metadata": {
    "colab": {},
    "colab_type": "code",
    "id": "4PS7TooLlkAE"
   },
   "outputs": [],
   "source": [
    "dutch_line_no = defaultdict(set)\n",
    "eng_line_no = defaultdict(set)"
   ]
  },
  {
   "cell_type": "markdown",
   "metadata": {
    "colab_type": "text",
    "id": "UW5uTk1anHCZ"
   },
   "source": [
    "Populating the dictionary."
   ]
  },
  {
   "cell_type": "code",
   "execution_count": null,
   "metadata": {
    "colab": {},
    "colab_type": "code",
    "id": "zdprkzCwlkAH"
   },
   "outputs": [],
   "source": [
    "def assign_line_no(doc,dict_lo):\n",
    "    for i in range(len(doc)):\n",
    "        t = doc[i].split()\n",
    "        for m in t:\n",
    "            dict_lo[m].add(i)\n",
    "    return dict_lo"
   ]
  },
  {
   "cell_type": "code",
   "execution_count": null,
   "metadata": {
    "colab": {},
    "colab_type": "code",
    "id": "yJo9T8hAlkAJ"
   },
   "outputs": [],
   "source": [
    "dutch_line_no = assign_line_no(dutch2, dutch_line_no)\n",
    "eng_line_no = assign_line_no(eng2, eng_line_no)"
   ]
  },
  {
   "cell_type": "code",
   "execution_count": null,
   "metadata": {
    "colab": {},
    "colab_type": "code",
    "id": "AQEUWNoOlkAL"
   },
   "outputs": [],
   "source": [
    "no_of_lines_eng = len(eng_line_no)\n",
    "no_of_lines_dutch = len(dutch_line_no)"
   ]
  },
  {
   "cell_type": "code",
   "execution_count": null,
   "metadata": {
    "colab": {},
    "colab_type": "code",
    "id": "zbXMyWYSC3Mv"
   },
   "outputs": [],
   "source": [
    "\n",
    "\n",
    "engine = create_engine('sqlite:///college3.db', echo = True)\n",
    "meta = MetaData()\n",
    "\n",
    "tProb = Table(\n",
    "   'tProb', meta, \n",
    "   Column('english', String), \n",
    "   Column('dutch', String), \n",
    "   Column('prob', Float),\n",
    "   PrimaryKeyConstraint('english', 'dutch', name='tProb')\n",
    ")\n",
    "meta.create_all(engine)"
   ]
  },
  {
   "cell_type": "code",
   "execution_count": null,
   "metadata": {
    "colab": {},
    "colab_type": "code",
    "id": "II1719RylkAN"
   },
   "outputs": [],
   "source": [
    "def initialize(foreign_no_of_words,foreign_l,english_l,num_dict_dutch,num_dict_eng):\n",
    "    # probabilities = {} # Initializing proablities\n",
    "    # #count = {} # Count\n",
    "    # counter = 1\n",
    "    # index = -1*(foreign_no_of_words)\n",
    "    \n",
    "    # num_dict_dutch = make_dict_dutch(foreign_l,num_dict_dutch)\n",
    "    #s=0\n",
    "    for i in english_l.keys():\n",
    "        for j in foreign_l.keys():\n",
    "            ins = tProb.insert().values(english = i, dutch= j, prob= 1/foreign_no_of_words)\n",
    "            #s+=1\n",
    "            #print(s/7059.85)\n",
    "            conn = engine.connect()\n",
    "            a=conn.execute(ins)\n",
    "            #print(\"running\")\n",
    "            # s = i+\"_\"+j\n",
    "            # probabilities[s] = 1/foreign_no_of_words\n",
    "            # #count[s] = 0\n",
    "        \n",
    "        # index = write_to_file(probabilities,i,counter,PROB_FILE,foreign_no_of_words,index,num_dict_eng)\n",
    "        # #write_to_file(count,i,counter,COUNT_FILE)\n",
    "        # counter +=1\n",
    "        # probabilities ={}\n",
    "        \n",
    "    return True\n",
    "    "
   ]
  },
  {
   "cell_type": "code",
   "execution_count": null,
   "metadata": {
    "colab": {},
    "colab_type": "code",
    "id": "2lYYLZMEEL4B"
   },
   "outputs": [],
   "source": [
    "\n"
   ]
  },
  {
   "cell_type": "code",
   "execution_count": null,
   "metadata": {
    "colab": {},
    "colab_type": "code",
    "id": "T01FJIy7vjdj"
   },
   "outputs": [],
   "source": [
    "num_dict_eng = {}\n",
    "num_dict_dutch={}"
   ]
  },
  {
   "cell_type": "code",
   "execution_count": null,
   "metadata": {
    "colab": {},
    "colab_type": "code",
    "id": "7TUMzCkplkAR"
   },
   "outputs": [],
   "source": [
    "def write_to_file(probabilities,english_word,counter,file_name,foreign_no_of_words,index,num_dict_eng):\n",
    "    file = open(file_name,'a')\n",
    "    #file.write(str(counter)+' '+english_word+'\\n')\n",
    "    num_dict_eng[english_word]=index+foreign_no_of_words\n",
    "    index=index+foreign_no_of_words\n",
    "    #print(counter)\n",
    "    for k,v in probabilities.items():\n",
    "        file.write('{0} {1}\\n'.format(k,v))\n",
    "    file.close()\n",
    "    return index"
   ]
  },
  {
   "cell_type": "code",
   "execution_count": null,
   "metadata": {
    "colab": {
     "base_uri": "https://localhost:8080/",
     "height": 235
    },
    "colab_type": "code",
    "executionInfo": {
     "elapsed": 1282,
     "status": "error",
     "timestamp": 1572714183787,
     "user": {
      "displayName": "SHEFALI TRIPATHI",
      "photoUrl": "",
      "userId": "08624423980567502091"
     },
     "user_tz": -330
    },
    "id": "kOUK_go7lkAU",
    "outputId": "e36b34c3-22a3-4463-9601-e6f641a96a1a"
   },
   "outputs": [],
   "source": [
    "t = time.process_time()\n",
    "prob = initialize(no_of_lines_dutch,dutch_line_no,eng_line_no,num_dict_dutch,num_dict_eng)\n",
    "elapsed_time = time.process_time() - t\n",
    "print(elapsed_time)"
   ]
  },
  {
   "cell_type": "code",
   "execution_count": null,
   "metadata": {
    "colab": {},
    "colab_type": "code",
    "id": "1YWgpAlvlkAY"
   },
   "outputs": [],
   "source": [
    "def finding_probabilities(dutch_sentences, eng_sentences,no_of_sentences,total):\n",
    "    \n",
    "    for i in range(no_of_sentences):\n",
    "        \n",
    "        du = dutch_sentences[i]\n",
    "        en = eng_sentences[i]\n",
    "        \n",
    "        du_words = du.split()\n",
    "        en_words = en.split()\n",
    "        \n",
    "        # To already retrieve the count\n",
    "        \n",
    "        retrieved_count = {}\n",
    "        retrieved_term_probability = {}\n",
    "        \n",
    "        f = open(COUNT_FILE,'r+')\n",
    "        f2 = open(PROB_FILE,'r+')\n",
    "        \n",
    "        lines = f.readlines()\n",
    "        lines2 = f2.readlines()\n",
    "        \n",
    "        #print(len(lines))\n",
    "        #print(len(lines2))\n",
    "        \n",
    "        print(du)\n",
    "        print(en)\n",
    "        \n",
    "        for e in en_words:\n",
    "            \n",
    "            for d in du_words:\n",
    "                \n",
    "                \n",
    "                eng_line_no = num_dict_eng[e]\n",
    "                dutch_line_no = num_dict_dutch[d]\n",
    "                \n",
    "                #print(\"English\",e,eng_line_no)\n",
    "                #print(\"Dutch\",d,dutch_line_no)\n",
    "                \n",
    "                line_no = lines[eng_line_no + dutch_line_no-1]\n",
    "                line_no2 = lines2[eng_line_no + dutch_line_no-1]\n",
    "                \n",
    "                #print(line_no,\" \",line_no2)\n",
    "                pr = line_no.split()\n",
    "                pr2 = line_no2.split()\n",
    "                #print(pr,pr2)\n",
    "                \n",
    "                retrieved_count[pr[0]] = float(pr[1])\n",
    "                retrieved_term_probability[pr2[0]] = float(pr2[1])\n",
    "                #break\n",
    "            #break\n",
    "                \n",
    "                \n",
    "        f.close()\n",
    "        f2.close()\n",
    "        \n",
    "        print(retrieved_term_probability)\n",
    "        print(retrieved_count)\n",
    "        s_total = {}\n",
    "        \n",
    "        for e in en_words:\n",
    "            \n",
    "            s_total[e] = 0\n",
    "            \n",
    "            for d in du_words:\n",
    "                \n",
    "                s = e+'_'+d\n",
    "                \n",
    "                #print(s,e)\n",
    "                \n",
    "                s_total[e] += retrieved_term_probability[s]\n",
    "        \n",
    "        \n",
    "        for e in en_words:\n",
    "            \n",
    "            for d in du_words:\n",
    "                \n",
    "                s = e+'_'+d\n",
    "                \n",
    "                retrieved_count[s] += retrieved_term_probability[s]/s_total[e]\n",
    "                \n",
    "                total[d] += retrieved_term_probability[s]/s_total[e]\n",
    "                \n",
    "        # Re-Write into the count_file\n",
    "        \n",
    "        f = open(COUNT_FILE,'r+')\n",
    "        \n",
    "        m = f.readlines()\n",
    "        \n",
    "        for k,v in retrieved_count.items():\n",
    "            \n",
    "            t = k.split('_')\n",
    "            \n",
    "            eng_line_no=num_dict_eng[t[0]]\n",
    "            dutch_line_no = num_dict_dutch[t[1]]\n",
    "            \n",
    "            final_line_no = eng_line_no + dutch_line_no\n",
    "            \n",
    "            m[final_line_no-1] = '{0} {1}\\n'.format(k,v)\n",
    "        \n",
    "        f.close()\n",
    "        \n",
    "        with open(COUNT_FILE,'w') as file:\n",
    "            file.writelines(m)\n",
    "            \n",
    "    \n",
    "            \n",
    "        \n",
    "        \n",
    "        \n",
    "        \n",
    "        \n",
    "    "
   ]
  },
  {
   "cell_type": "code",
   "execution_count": null,
   "metadata": {
    "colab": {},
    "colab_type": "code",
    "id": "fLOkVAQKlkAc"
   },
   "outputs": [],
   "source": [
    "#finding_probabilties(dutch,eng,total_no_of_sentences)"
   ]
  },
  {
   "cell_type": "code",
   "execution_count": null,
   "metadata": {
    "colab": {},
    "colab_type": "code",
    "id": "sOmKfR72lkAe"
   },
   "outputs": [],
   "source": [
    "def running_function(foreign_l, english_l, dutch_sentences, eng_sentences, no_of_sentences,no_of_iterations = 100):\n",
    "    \n",
    "    count = {}\n",
    "    counter = 1\n",
    "    for i in english_l.keys():\n",
    "        for j in foreign_l.keys():\n",
    "            s = i+\"_\"+j\n",
    "            count[s] = 0\n",
    "            \n",
    "        write_to_file2(count,i,counter,COUNT_FILE,'w')\n",
    "        counter += 1\n",
    "        count = {}\n",
    "        \n",
    "    total = {}\n",
    "    \n",
    "    for k in foreign_l.keys():\n",
    "        total[k] = 0\n",
    "        \n",
    "    finding_probabilities(dutch_sentences,eng_sentences,no_of_sentences,total)\n",
    "    \n",
    "    f = open(COUNT_FILE,'r+')\n",
    "    f2 = open(PROB_FILE,'r+')\n",
    "    \n",
    "    retrieved_count = {}\n",
    "    retrieved_term_probability = {}\n",
    "    \n",
    "        \n",
    "    lines = f.readlines()\n",
    "    lines2 = f2.readlines()\n",
    "        \n",
    "    for e in english_l.keys():\n",
    "            \n",
    "        for d in foreign_l.keys():\n",
    "                \n",
    "            eng_line_no = num_dict_eng[e]\n",
    "            dutch_line_no = num_dict_dutch[d]\n",
    "                \n",
    "            line_no = lines[eng_line_no + dutch_line_no-1]\n",
    "            #line_no2 = lines2[eng_line_no + dutch_line_no-1]\n",
    "                \n",
    "            pr = line_no.split()\n",
    "            #pr2 = line_no2.split()\n",
    "                \n",
    "            retrieved_count[pr[0]] = float(pr[1])\n",
    "            #retrieved_term_probability[pr2[0]] = float(pr2[1])\n",
    "                \n",
    "                \n",
    "    f.close()\n",
    "    f2.close()\n",
    "\n",
    "    \n",
    "    \n",
    "    for d in foreign_l.keys():\n",
    "        for e in english_l.keys():\n",
    "            \n",
    "            s = e+ '_' +d\n",
    "            retrieved_term_probability[s] = retrieved_count[s]/total[d]  \n",
    "            \n",
    "            eng_line_no = num_dict_eng[e]\n",
    "            dutch_line_no = num_dict_dutch[d]\n",
    "            \n",
    "            final_line_no = eng_line_no + dutch_line_no\n",
    "            \n",
    "            lines2[final_line_no-1] = '{0} {1}\\n'.format(s,retrieved_term_probability[s])\n",
    "            \n",
    "    with open(PROB_FILE,'w') as f:\n",
    "        f.writelines(lines2)\n",
    "    \n",
    "    \n",
    "            \n",
    "            \n",
    "            \n",
    "            \n",
    "    \n",
    "    "
   ]
  },
  {
   "cell_type": "code",
   "execution_count": null,
   "metadata": {
    "colab": {},
    "colab_type": "code",
    "id": "DMuRmkEEkHxF",
    "outputId": "4d36fe21-b6e4-4cfd-82fd-8474f4a20a8c"
   },
   "outputs": [],
   "source": [
    "t = time.process_time()\n",
    "running_function(dutch_line_no,eng_line_no,dutch2,eng2,len(dutch))\n",
    "elapsed_time = time.process_time() - t\n",
    "print(elapsed_time)"
   ]
  },
  {
   "cell_type": "code",
   "execution_count": null,
   "metadata": {
    "colab": {},
    "colab_type": "code",
    "id": "PBUXnhSBkHxH"
   },
   "outputs": [],
   "source": [
    "def write_to_file2(probabilities,english_word,counter,file_name,mode = 'a'):\n",
    "    file = open(file_name,'a')\n",
    "    #file.write(str(counter)+' '+english_word+'\\n')\n",
    "    for k,v in probabilities.items():\n",
    "        file.write('{0} {1}\\n'.format(k,v))\n",
    "    file.close()"
   ]
  },
  {
   "cell_type": "code",
   "execution_count": null,
   "metadata": {
    "colab": {},
    "colab_type": "code",
    "id": "zJms0FiakHxJ",
    "outputId": "ddd85a55-74eb-4a84-c94c-f606bbcce939"
   },
   "outputs": [],
   "source": [
    "num_dict_eng"
   ]
  },
  {
   "cell_type": "code",
   "execution_count": null,
   "metadata": {
    "colab": {},
    "colab_type": "code",
    "id": "Yl4fj0i3kHxL",
    "outputId": "aae12afc-f4ff-43f3-f8ea-79fff8b9da99"
   },
   "outputs": [],
   "source": [
    "num_dict_dutch"
   ]
  },
  {
   "cell_type": "code",
   "execution_count": null,
   "metadata": {
    "colab": {},
    "colab_type": "code",
    "id": "po1GWyGFkHxQ"
   },
   "outputs": [],
   "source": [
    "def retrieve_max(foreign_l,english_l,no_of_dutch_words):\n",
    "    \n",
    "    translation = {}\n",
    "    \n",
    "    f = open(COUNT_FILE,'r+')\n",
    "    \n",
    "    lines = f.readlines()\n",
    "    \n",
    "    print(len(lines))\n",
    "    \n",
    "    counter = 1\n",
    "    \n",
    "    for e in english_l.keys():\n",
    "        \n",
    "        print(e,counter)\n",
    "        eng_line_no = num_dict_eng[e]\n",
    "        \n",
    "        m = -1\n",
    "        \n",
    "        min_number = eng_line_no+1\n",
    "        max_number = eng_line_no+no_of_dutch_words+1\n",
    "        \n",
    "        print(min_number,max_number)\n",
    "        \n",
    "        for i in range(min_number,max_number):\n",
    "            \n",
    "            t = lines[i-1]\n",
    "            \n",
    "            k = t.split()\n",
    "            val = float(k[1])\n",
    "            \n",
    "            if(m < val):\n",
    "                bi_word = k[0].split('_')\n",
    "                dutch_word = bi_word[1]\n",
    "                translation[e] = dutch_word\n",
    "                m = val    \n",
    "        \n",
    "        counter+=1\n",
    "    f.close()\n",
    "    \n",
    "    return translation\n",
    "            \n",
    "            \n",
    "            \n",
    "        "
   ]
  },
  {
   "cell_type": "code",
   "execution_count": null,
   "metadata": {
    "colab": {},
    "colab_type": "code",
    "id": "8eXLNz7CkHxb",
    "outputId": "1a4c7fc3-7597-4aff-a5b2-e6565a870b1c"
   },
   "outputs": [],
   "source": [
    "t = time.process_time()\n",
    "tr = retrieve_max(dutch_line_no,eng_line_no,len(num_dict_dutch))\n",
    "elapsed_time = time.process_time() - t\n",
    "print(elapsed_time)"
   ]
  },
  {
   "cell_type": "code",
   "execution_count": null,
   "metadata": {
    "colab": {},
    "colab_type": "code",
    "id": "krclKqHikHxe",
    "outputId": "210e4440-db20-42eb-c5a9-6c5837c73dbd"
   },
   "outputs": [],
   "source": [
    "tr"
   ]
  },
  {
   "cell_type": "code",
   "execution_count": null,
   "metadata": {
    "colab": {},
    "colab_type": "code",
    "id": "WOEtmn_qkHxi"
   },
   "outputs": [],
   "source": []
  }
 ],
 "metadata": {
  "colab": {
   "collapsed_sections": [],
   "name": "Latest.ipynb",
   "provenance": []
  },
  "kernelspec": {
   "display_name": "Python 3",
   "language": "python",
   "name": "python3"
  },
  "language_info": {
   "codemirror_mode": {
    "name": "ipython",
    "version": 3
   },
   "file_extension": ".py",
   "mimetype": "text/x-python",
   "name": "python",
   "nbconvert_exporter": "python",
   "pygments_lexer": "ipython3",
   "version": "3.6.5"
  }
 },
 "nbformat": 4,
 "nbformat_minor": 1
}
