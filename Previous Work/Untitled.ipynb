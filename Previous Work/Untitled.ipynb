{
 "cells": [
  {
   "cell_type": "code",
   "execution_count": 2,
   "metadata": {},
   "outputs": [],
   "source": [
    "f1=\"kutta bhouka\"\n",
    "f2=\"kutta kaata\"\n",
    "e1=\"dog barked\"\n",
    "e2=\"dog bit\"\n",
    "\n",
    "l=f1.split()\n",
    "l.extend(f2.split())\n",
    "fv=list(set(l))\n",
    "l=e1.split()\n",
    "l.extend(e2.split())\n",
    "ev=list(set(l))\n",
    "\n"
   ]
  },
  {
   "cell_type": "code",
   "execution_count": 4,
   "metadata": {},
   "outputs": [
    {
     "name": "stdout",
     "output_type": "stream",
     "text": [
      "['dog', 'barked', 'bit'] ['kaata', 'bhouka', 'kutta']\n"
     ]
    }
   ],
   "source": [
    "p1={}\n",
    "for i1 in range(len(fv)):\n",
    "    for j1 in range(len(ev)):\n",
    "        # = ev[j1]+\"|\"+fv[i1]]\n",
    "        p1[ev[j1]+\"|\"+fv[i1]]=1.0/len(ev)\n",
    "print(ev,fv)\n"
   ]
  },
  {
   "cell_type": "code",
   "execution_count": null,
   "metadata": {},
   "outputs": [],
   "source": [
    "p2={}\n",
    "for i2 in range(len(f1)):\n",
    "    for j2 in range(len(e1)):\n",
    "        p2[e1[j2]+\"|\"+f1[i2]+\",\"+e1]="
   ]
  },
  {
   "cell_type": "code",
   "execution_count": null,
   "metadata": {},
   "outputs": [],
   "source": []
  }
 ],
 "metadata": {
  "kernelspec": {
   "display_name": "Python 3",
   "language": "python",
   "name": "python3"
  },
  "language_info": {
   "codemirror_mode": {
    "name": "ipython",
    "version": 3
   },
   "file_extension": ".py",
   "mimetype": "text/x-python",
   "name": "python",
   "nbconvert_exporter": "python",
   "pygments_lexer": "ipython3",
   "version": "3.6.5"
  }
 },
 "nbformat": 4,
 "nbformat_minor": 2
}
