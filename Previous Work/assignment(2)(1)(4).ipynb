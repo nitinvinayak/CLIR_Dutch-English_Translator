{
 "cells": [
  {
   "cell_type": "code",
   "execution_count": 1,
   "metadata": {
    "colab": {},
    "colab_type": "code",
    "id": "fgMyFb43lj_B"
   },
   "outputs": [
    {
     "ename": "ModuleNotFoundError",
     "evalue": "No module named 'seaborn'",
     "output_type": "error",
     "traceback": [
      "\u001b[1;31m---------------------------------------------------------------------------\u001b[0m",
      "\u001b[1;31mModuleNotFoundError\u001b[0m                       Traceback (most recent call last)",
      "\u001b[1;32m<ipython-input-1-b443ec1d6895>\u001b[0m in \u001b[0;36m<module>\u001b[1;34m()\u001b[0m\n\u001b[0;32m      2\u001b[0m \u001b[1;32mimport\u001b[0m \u001b[0mpandas\u001b[0m \u001b[1;32mas\u001b[0m \u001b[0mpd\u001b[0m\u001b[1;33m\u001b[0m\u001b[0m\n\u001b[0;32m      3\u001b[0m \u001b[1;32mimport\u001b[0m \u001b[0mmatplotlib\u001b[0m\u001b[1;33m.\u001b[0m\u001b[0mpyplot\u001b[0m \u001b[1;32mas\u001b[0m \u001b[0mplt\u001b[0m\u001b[1;33m\u001b[0m\u001b[0m\n\u001b[1;32m----> 4\u001b[1;33m \u001b[1;32mimport\u001b[0m \u001b[0mseaborn\u001b[0m \u001b[1;32mas\u001b[0m \u001b[0msns\u001b[0m\u001b[1;33m\u001b[0m\u001b[0m\n\u001b[0m",
      "\u001b[1;31mModuleNotFoundError\u001b[0m: No module named 'seaborn'"
     ]
    }
   ],
   "source": [
    "import numpy as np\n",
    "import pandas as pd\n",
    "import matplotlib.pyplot as plt\n",
    "import seaborn as sns"
   ]
  },
  {
   "cell_type": "code",
   "execution_count": null,
   "metadata": {
    "colab": {},
    "colab_type": "code",
    "id": "yzwAH9O-lj_E"
   },
   "outputs": [],
   "source": [
    "import time\n",
    "import os"
   ]
  },
  {
   "cell_type": "markdown",
   "metadata": {
    "colab_type": "text",
    "id": "KnLdFqPflj_I"
   },
   "source": [
    "Initialising the source files containing the English and Dutch Corpus'."
   ]
  },
  {
   "cell_type": "code",
   "execution_count": null,
   "metadata": {
    "colab": {},
    "colab_type": "code",
    "id": "CMTuTGWmoB8T"
   },
   "outputs": [],
   "source": [
    "def make_dict_dutch(foreign_l,num_dict_dutch):\n",
    "    c=1\n",
    "    for i in foreign_l.keys():\n",
    "        num_dict_dutch[i]=c\n",
    "        c+=1\n",
    "    return num_dict_dutch\n",
    "        "
   ]
  },
  {
   "cell_type": "code",
   "execution_count": null,
   "metadata": {
    "colab": {},
    "colab_type": "code",
    "id": "v7fFAnzPlj_J"
   },
   "outputs": [],
   "source": [
    "ENG_FILE_SRC = \"/media/ieshaan/Windows/Users/IESHAAN .LAPTOP-U40CT3MF/Downloads/Dataset-20191031T070748Z-001/Dataset/English.txt\"\n",
    "DUTCH_FILE_SRC = \"/media/ieshaan/Windows/Users/IESHAAN .LAPTOP-U40CT3MF/Downloads/Dataset-20191031T070748Z-001/Dataset/Dutch.txt\""
   ]
  },
  {
   "cell_type": "code",
   "execution_count": null,
   "metadata": {
    "colab": {},
    "colab_type": "code",
    "id": "x0grfovalj_M"
   },
   "outputs": [],
   "source": [
    "# Test Files\n",
    "\n",
    "ENG_TEST_FILE = 'English2.txt'\n",
    "DUTCH_TEST_FILE = 'Dutch2.txt'"
   ]
  },
  {
   "cell_type": "code",
   "execution_count": null,
   "metadata": {},
   "outputs": [],
   "source": [
    "# Teensy Test files\n",
    "\n",
    "ENG_SMALL = 'small_eng.txt'\n",
    "DUTCH_SMALL = 'small_dutch.txt'"
   ]
  },
  {
   "cell_type": "markdown",
   "metadata": {
    "colab_type": "text",
    "id": "c5RSS0UTlj_P"
   },
   "source": [
    "PROB_FILE -> Contains data of translation probabilities t(e|f).\n",
    "COUNT_FILE -> Contains data of counts c(e|f)"
   ]
  },
  {
   "cell_type": "code",
   "execution_count": null,
   "metadata": {
    "colab": {},
    "colab_type": "code",
    "id": "J8vBCuFhlj_S"
   },
   "outputs": [],
   "source": [
    "PROB_FILE = 'condProb.txt'\n",
    "COUNT_FILE = 'count.txt'"
   ]
  },
  {
   "cell_type": "code",
   "execution_count": null,
   "metadata": {
    "colab": {},
    "colab_type": "code",
    "id": "3s4N-qS_lj_c"
   },
   "outputs": [],
   "source": [
    "e_file = open(ENG_TEST_FILE,'r',encoding = 'utf-8')\n",
    "d_file = open(DUTCH_TEST_FILE,'r',encoding = 'utf-8')"
   ]
  },
  {
   "cell_type": "code",
   "execution_count": null,
   "metadata": {
    "colab": {},
    "colab_type": "code",
    "id": "XzkILl6ulj_h"
   },
   "outputs": [],
   "source": [
    "dutch = d_file.readlines()\n",
    "eng = e_file.readlines()"
   ]
  },
  {
   "cell_type": "code",
   "execution_count": null,
   "metadata": {},
   "outputs": [],
   "source": []
  },
  {
   "cell_type": "code",
   "execution_count": null,
   "metadata": {},
   "outputs": [],
   "source": []
  },
  {
   "cell_type": "markdown",
   "metadata": {
    "colab_type": "text",
    "id": "g0KaxZNdlj_n"
   },
   "source": [
    "Calculation of total number of sentences in foreign language."
   ]
  },
  {
   "cell_type": "code",
   "execution_count": null,
   "metadata": {
    "colab": {},
    "colab_type": "code",
    "id": "Dfot602Plj_q"
   },
   "outputs": [],
   "source": [
    "total_no_of_sentences = len(dutch)"
   ]
  },
  {
   "cell_type": "code",
   "execution_count": null,
   "metadata": {},
   "outputs": [],
   "source": [
    "#print(total_no_of_sentences)"
   ]
  },
  {
   "cell_type": "markdown",
   "metadata": {
    "colab_type": "text",
    "id": "lFD6Z7oplj_x"
   },
   "source": [
    "The function given below removes all punctuation as well as numbers from the text for ease of translation."
   ]
  },
  {
   "cell_type": "code",
   "execution_count": null,
   "metadata": {
    "colab": {},
    "colab_type": "code",
    "id": "JFerawQulj_y"
   },
   "outputs": [],
   "source": [
    "def remove_punc(l):\n",
    "    for i in range(len(l)):\n",
    "        l[i] = remove_stuff(l[i])\n",
    "        l[i] = l[i][:-1].lower()\n",
    "    return l"
   ]
  },
  {
   "cell_type": "code",
   "execution_count": null,
   "metadata": {
    "colab": {},
    "colab_type": "code",
    "id": "pJdzuKyAlj_3"
   },
   "outputs": [],
   "source": [
    "def remove_stuff(l):\n",
    "    a = [ ':','.' , '\\\\' , '/' , ',' , ';' , '(' , ')' , '\"', \"\\'\",'1','2','3','4','5','6','7','8','9','0','?']\n",
    "    for i in a:\n",
    "        l = l.replace(i, \"\")\n",
    "    return l"
   ]
  },
  {
   "cell_type": "code",
   "execution_count": null,
   "metadata": {
    "colab": {},
    "colab_type": "code",
    "id": "42rQWa4Ulj_7"
   },
   "outputs": [],
   "source": [
    "dutch2 = remove_punc(dutch)\n",
    "eng2 = remove_punc(eng)"
   ]
  },
  {
   "cell_type": "code",
   "execution_count": null,
   "metadata": {},
   "outputs": [],
   "source": []
  },
  {
   "cell_type": "code",
   "execution_count": null,
   "metadata": {},
   "outputs": [],
   "source": []
  },
  {
   "cell_type": "code",
   "execution_count": null,
   "metadata": {
    "colab": {},
    "colab_type": "code",
    "id": "WacaBoGHlj_-"
   },
   "outputs": [],
   "source": [
    "from collections import defaultdict"
   ]
  },
  {
   "cell_type": "markdown",
   "metadata": {
    "colab_type": "text",
    "id": "VuuZJ_olmv-z"
   },
   "source": [
    "Intialising the dutch and english dictionaries. **Key** -> Words and **Value** -> List of Line Numbers the words occurs in."
   ]
  },
  {
   "cell_type": "code",
   "execution_count": null,
   "metadata": {
    "colab": {},
    "colab_type": "code",
    "id": "4PS7TooLlkAE"
   },
   "outputs": [],
   "source": [
    "dutch_line_no = defaultdict(set)\n",
    "eng_line_no = defaultdict(set)\n",
    "#print(dutch_line_no)"
   ]
  },
  {
   "cell_type": "markdown",
   "metadata": {
    "colab_type": "text",
    "id": "UW5uTk1anHCZ"
   },
   "source": [
    "Populating the dictionary."
   ]
  },
  {
   "cell_type": "code",
   "execution_count": null,
   "metadata": {
    "colab": {},
    "colab_type": "code",
    "id": "zdprkzCwlkAH"
   },
   "outputs": [],
   "source": [
    "def assign_line_no(doc,dict_lo):\n",
    "    for i in range(len(doc)):\n",
    "        t = doc[i].split()\n",
    "        for m in t:\n",
    "            dict_lo[m].add(i)\n",
    "    return dict_lo"
   ]
  },
  {
   "cell_type": "code",
   "execution_count": null,
   "metadata": {
    "colab": {},
    "colab_type": "code",
    "id": "yJo9T8hAlkAJ"
   },
   "outputs": [],
   "source": [
    "dutch_line_no = assign_line_no(dutch2, dutch_line_no)\n",
    "eng_line_no = assign_line_no(eng2, eng_line_no)\n",
    "print(dutch_line_no)"
   ]
  },
  {
   "cell_type": "code",
   "execution_count": null,
   "metadata": {
    "colab": {},
    "colab_type": "code",
    "id": "AQEUWNoOlkAL"
   },
   "outputs": [],
   "source": [
    "no_of_lines_eng = len(eng_line_no)\n",
    "no_of_lines_dutch = len(dutch_line_no)"
   ]
  },
  {
   "cell_type": "code",
   "execution_count": null,
   "metadata": {},
   "outputs": [],
   "source": [
    "print(dutch_line_no)\n",
    "print()\n",
    "print(eng_line_no)"
   ]
  },
  {
   "cell_type": "code",
   "execution_count": null,
   "metadata": {
    "colab": {},
    "colab_type": "code",
    "id": "II1719RylkAN"
   },
   "outputs": [],
   "source": [
    "def initialize(foreign_no_of_words,foreign_l,english_l,num_dict_dutch,num_dict_eng):\n",
    "    probabilities = {} # Initializing proablities\n",
    "    #count = {} # Count\n",
    "    counter = 1\n",
    "    index = -1*(foreign_no_of_words)\n",
    "    \n",
    "    num_dict_dutch = make_dict_dutch(foreign_l,num_dict_dutch)\n",
    "    \n",
    "    for i in english_l.keys():\n",
    "        for j in foreign_l.keys():\n",
    "            s = i+\"_\"+j\n",
    "            probabilities[s] = 1/foreign_no_of_words\n",
    "\n",
    "            #count[s] = 0\n",
    "        \n",
    "        index = write_to_file(probabilities,i,counter,PROB_FILE,foreign_no_of_words,index,num_dict_eng)\n",
    "        #write_to_file(count,i,counter,COUNT_FILE)\n",
    "        counter +=1\n",
    "        probabilities ={}\n",
    "        \n",
    "    return True\n",
    "    "
   ]
  },
  {
   "cell_type": "code",
   "execution_count": null,
   "metadata": {
    "colab": {},
    "colab_type": "code",
    "id": "T01FJIy7vjdj"
   },
   "outputs": [],
   "source": [
    "num_dict_eng = {}\n",
    "num_dict_dutch={}"
   ]
  },
  {
   "cell_type": "code",
   "execution_count": null,
   "metadata": {
    "colab": {},
    "colab_type": "code",
    "id": "7TUMzCkplkAR"
   },
   "outputs": [],
   "source": [
    "def write_to_file(probabilities,english_word,counter,file_name,foreign_no_of_words,index,num_dict_eng):\n",
    "    file = open(file_name,'a')\n",
    "    #file.write(str(counter)+' '+english_word+'\\n')\n",
    "    num_dict_eng[english_word]=index+foreign_no_of_words\n",
    "    index=index+foreign_no_of_words\n",
    "    #print(counter)\n",
    "    for k,v in probabilities.items():\n",
    "        file.write('{0} {1}\\n'.format(k,v))\n",
    "    file.close()\n",
    "    return index"
   ]
  },
  {
   "cell_type": "code",
   "execution_count": null,
   "metadata": {
    "colab": {},
    "colab_type": "code",
    "id": "kOUK_go7lkAU"
   },
   "outputs": [],
   "source": [
    "#t = time.process_time()\n",
    "prob = initialize(no_of_lines_dutch,dutch_line_no,eng_line_no,num_dict_dutch,num_dict_eng)\n",
    "#elapsed_time = time.process_time() - t\n",
    "#print(elapsed_time)"
   ]
  },
  {
   "cell_type": "code",
   "execution_count": null,
   "metadata": {
    "colab": {},
    "colab_type": "code",
    "id": "1YWgpAlvlkAY"
   },
   "outputs": [],
   "source": [
    "def finding_probabilities(dutch_sentences, eng_sentences,no_of_sentences,total):\n",
    "    \n",
    "    for i in range(no_of_sentences):\n",
    "        \n",
    "        \n",
    "        en = eng_sentences[i]\n",
    "        en_words = en.split()\n",
    "        \n",
    "\n",
    "        du = dutch_sentences[i]\n",
    "        du_words = du.split()\n",
    "        \n",
    "        \n",
    "        print(du)\n",
    "        print(en)\n",
    "        print()\n",
    "\n",
    "        # To already retrieve the count\n",
    "\n",
    "        retrieved_count = {}\n",
    "        retrieved_term_probability = {}\n",
    "\n",
    "        f = open(COUNT_FILE,'r+')\n",
    "        f2 = open(PROB_FILE,'r+')\n",
    "\n",
    "        lines = f.readlines()\n",
    "        lines2 = f2.readlines()\n",
    "\n",
    "        #print(len(lines))\n",
    "        #print(len(lines2))\n",
    "\n",
    "\n",
    "        for e in en_words:\n",
    "\n",
    "            for d in du_words:\n",
    "\n",
    "\n",
    "                eng_line_no = num_dict_eng[e]\n",
    "                dutch_line_no = num_dict_dutch[d]\n",
    "\n",
    "                #print(\"English\",e,eng_line_no)\n",
    "                #print(\"Dutch\",d,dutch_line_no)\n",
    "\n",
    "                line_no = lines[eng_line_no + dutch_line_no-1]\n",
    "                line_no2 = lines2[eng_line_no + dutch_line_no-1]\n",
    "\n",
    "                #print(line_no,\" \",line_no2)\n",
    "                pr = line_no.split()\n",
    "                pr2 = line_no2.split()\n",
    "                #print(pr,pr2)\n",
    "\n",
    "                retrieved_count[pr[0]] = float(pr[1])\n",
    "                retrieved_term_probability[pr2[0]] = float(pr2[1])\n",
    "                #break\n",
    "            #break\n",
    "\n",
    "\n",
    "        f.close()\n",
    "        f2.close()\n",
    "\n",
    "\n",
    "        #stop_2 = input(\"Calculated to Translation Probability & Retrieved Count\")\n",
    "\n",
    "        s_total = {}\n",
    "\n",
    "        for e in en_words:\n",
    "\n",
    "            s_total[e] = 0\n",
    "\n",
    "            for d in du_words:\n",
    "\n",
    "                s = e+'_'+d\n",
    "\n",
    "                #print(s,e)\n",
    "\n",
    "                s_total[e] += retrieved_term_probability[s]\n",
    "\n",
    "\n",
    "        for e in en_words:\n",
    "\n",
    "            for d in du_words:\n",
    "\n",
    "                s = e+'_'+d\n",
    "\n",
    "                retrieved_count[s] += (retrieved_term_probability[s]/s_total[e])\n",
    "\n",
    "                total[d] += (retrieved_term_probability[s]/s_total[e])\n",
    "\n",
    "        # Re-Write into the count_file\n",
    "\n",
    "        #print()\n",
    "        #print(retrieved_count)\n",
    "        #print()\n",
    "        #print(total)\n",
    "\n",
    "        #temp = input(\"Counts modified Again\")\n",
    "\n",
    "        f = open(COUNT_FILE,'r+')\n",
    "\n",
    "        m = f.readlines()\n",
    "\n",
    "        for k,v in retrieved_count.items():\n",
    "\n",
    "            t = k.split('_')\n",
    "\n",
    "            eng_line_no=num_dict_eng[t[0]]\n",
    "            dutch_line_no = num_dict_dutch[t[1]]\n",
    "\n",
    "            final_line_no = eng_line_no + dutch_line_no\n",
    "\n",
    "            m[final_line_no-1] = '{0} {1}\\n'.format(k,v)\n",
    "\n",
    "        f.close()\n",
    "\n",
    "        with open(COUNT_FILE,'w') as file:\n",
    "            file.writelines(m)\n",
    "\n",
    "        #s = input(\"Iteration Complete: \")\n",
    "\n",
    "        \n",
    "    return total\n",
    "        \n",
    "    "
   ]
  },
  {
   "cell_type": "code",
   "execution_count": null,
   "metadata": {
    "colab": {},
    "colab_type": "code",
    "id": "fLOkVAQKlkAc"
   },
   "outputs": [],
   "source": [
    "#finding_probabilties(dutch,eng,total_no_of_sentences)"
   ]
  },
  {
   "cell_type": "code",
   "execution_count": null,
   "metadata": {
    "colab": {},
    "colab_type": "code",
    "id": "sOmKfR72lkAe"
   },
   "outputs": [],
   "source": [
    "def running_function(foreign_l, english_l, dutch_sentences, eng_sentences, no_of_sentences,no_of_iterations = 500):\n",
    "    \n",
    "    for _ in range(no_of_iterations):\n",
    "    \n",
    "        count = {}\n",
    "        counter = 1\n",
    "        for i in english_l.keys():\n",
    "            for j in foreign_l.keys():\n",
    "                s = i+\"_\"+j\n",
    "                count[s] = 0\n",
    "            \n",
    "            write_to_file2(count,i,counter,COUNT_FILE,'a')\n",
    "            counter += 1\n",
    "            count = {}\n",
    "        \n",
    "        #stopper = input(\"Count has been initialized\")\n",
    "    \n",
    "    \n",
    "        total = {}\n",
    "    \n",
    "        for k in foreign_l.keys():\n",
    "            total[k] = 0\n",
    "    \n",
    "        #stopper_2 = input(\"Total has been initialized\")\n",
    "        \n",
    "        total = finding_probabilities(dutch_sentences,eng_sentences,no_of_sentences,total)\n",
    "    \n",
    "        f = open(COUNT_FILE,'r+')\n",
    "        f2 = open(PROB_FILE,'r+')\n",
    "    \n",
    "        retrieved_count = {}\n",
    "        retrieved_term_probability = {}\n",
    "    \n",
    "        \n",
    "        lines = f.readlines()\n",
    "        lines2 = f2.readlines()\n",
    "        \n",
    "        for e in english_l.keys():\n",
    "            \n",
    "            for d in foreign_l.keys():\n",
    "                \n",
    "                eng_line_no = num_dict_eng[e]\n",
    "                dutch_line_no = num_dict_dutch[d]\n",
    "                \n",
    "                line_no = lines[eng_line_no + dutch_line_no-1]\n",
    "            #line_no2 = lines2[eng_line_no + dutch_line_no-1]\n",
    "                \n",
    "                pr = line_no.split()\n",
    "            #pr2 = line_no2.split()\n",
    "                \n",
    "                retrieved_count[pr[0]] = float(pr[1])\n",
    "            #retrieved_term_probability[pr2[0]] = float(pr2[1])\n",
    "                \n",
    "        f.close()         \n",
    "        f2.close()\n",
    "\n",
    "    \n",
    "    \n",
    "        for d in foreign_l.keys():\n",
    "            for e in english_l.keys():\n",
    "            \n",
    "                s = e+ '_' +d\n",
    "                retrieved_term_probability[s] = retrieved_count[s]/total[d]  \n",
    "            \n",
    "                eng_line_no = num_dict_eng[e]\n",
    "                dutch_line_no = num_dict_dutch[d]\n",
    "            \n",
    "                final_line_no = eng_line_no + dutch_line_no\n",
    "            \n",
    "                lines2[final_line_no-1] = '{0} {1}\\n'.format(s,retrieved_term_probability[s])\n",
    "    \n",
    "        #print(lines2)\n",
    "            \n",
    "        with open(PROB_FILE,'w') as f:\n",
    "            f.writelines(lines2)\n",
    "            \n",
    "        #c = input(\"Iteration Completed\")\n",
    "    \n",
    "        os.remove('count.txt')\n",
    "        \n",
    "            \n",
    "    "
   ]
  },
  {
   "cell_type": "code",
   "execution_count": null,
   "metadata": {},
   "outputs": [],
   "source": [
    "def write_to_file2(probabilities,english_word,counter,file_name,mode = 'a'):\n",
    "    file = open(file_name,mode) \n",
    "    #file.write(str(counter)+' '+english_word+'\\n')\n",
    "    for k,v in probabilities.items():\n",
    "        file.write('{0} {1}\\n'.format(k,v))\n",
    "    file.close()"
   ]
  },
  {
   "cell_type": "code",
   "execution_count": null,
   "metadata": {},
   "outputs": [],
   "source": [
    "t = time.process_time()\n",
    "running_function(dutch_line_no,eng_line_no,dutch2,eng2,total_no_of_sentences)\n",
    "elapsed_time = time.process_time() - t\n",
    "print(elapsed_time)"
   ]
  },
  {
   "cell_type": "code",
   "execution_count": null,
   "metadata": {},
   "outputs": [],
   "source": []
  },
  {
   "cell_type": "code",
   "execution_count": null,
   "metadata": {},
   "outputs": [],
   "source": [
    "dutch2\n",
    "\n"
   ]
  },
  {
   "cell_type": "code",
   "execution_count": null,
   "metadata": {},
   "outputs": [],
   "source": [
    "def retrieve_max(foreign_l,english_l,no_of_dutch_words):\n",
    "    \n",
    "    translation = defaultdict(set)\n",
    "    translation_num = {}\n",
    "    \n",
    "    f = open(PROB_FILE,'r+')\n",
    "    \n",
    "    lines = f.readlines()\n",
    "    \n",
    "    print(len(lines))\n",
    "    \n",
    "    counter = 1\n",
    "    \n",
    "    for e in english_l.keys():\n",
    "        \n",
    "        #print(e,counter)\n",
    "        eng_line_no = num_dict_eng[e]\n",
    "        \n",
    "        translation_num[e] = -1\n",
    "        \n",
    "        min_number = eng_line_no+1\n",
    "        max_number = eng_line_no+no_of_dutch_words+1\n",
    "        \n",
    "        #print(min_number,max_number)\n",
    "        \n",
    "        for i in range(min_number,max_number):\n",
    "            \n",
    "            t = lines[i-1]\n",
    "            \n",
    "            k = t.split()\n",
    "            val = float(k[1])\n",
    "            \n",
    "            if(translation_num[e] < val):\n",
    "                bi_word = k[0].split('_')\n",
    "                dutch_word = bi_word[1]\n",
    "                translation[e] = set()\n",
    "                translation[e].add(dutch_word)\n",
    "                translation_num[e] = val\n",
    "    \n",
    "        counter+=1\n",
    "        \n",
    "    print(translation_num)\n",
    "        \n",
    "    counter = 1\n",
    "    \n",
    "    for e in english_l.keys():\n",
    "        \n",
    "        #print(e,counter)\n",
    "        eng_line_no = num_dict_eng[e]\n",
    "        \n",
    "        m = translation_num[e]\n",
    "        \n",
    "        min_number = eng_line_no+1\n",
    "        max_number = eng_line_no+no_of_dutch_words+1\n",
    "        \n",
    "        print(e)\n",
    "        #print(min_number,max_number)\n",
    "        \n",
    "        for i in range(min_number,max_number):\n",
    "            \n",
    "            t = lines[i-1]\n",
    "            \n",
    "            k = t.split()\n",
    "            val = float(k[1])\n",
    "            \n",
    "            if(m == val):\n",
    "                bi_word = k[0].split('_')\n",
    "                dutch_word = bi_word[1]\n",
    "                print(dutch_word)\n",
    "                translation[e].add(dutch_word)\n",
    "    \n",
    "        counter+=1\n",
    "    print(translation)    \n",
    "    \n",
    "    f.close()\n",
    "    \n",
    "    return translation\n",
    "            \n",
    "            \n",
    "            \n",
    "        "
   ]
  },
  {
   "cell_type": "code",
   "execution_count": null,
   "metadata": {},
   "outputs": [],
   "source": [
    "t = time.process_time()\n",
    "tr = retrieve_max(dutch_line_no,eng_line_no,len(num_dict_dutch))\n",
    "elapsed_time = time.process_time() - t\n",
    "print(elapsed_time)"
   ]
  },
  {
   "cell_type": "code",
   "execution_count": null,
   "metadata": {},
   "outputs": [],
   "source": [
    "tr"
   ]
  },
  {
   "cell_type": "code",
   "execution_count": null,
   "metadata": {},
   "outputs": [],
   "source": [
    "len(dutch_line_no)\n",
    "len(eng_line_no)"
   ]
  },
  {
   "cell_type": "code",
   "execution_count": null,
   "metadata": {},
   "outputs": [],
   "source": [
    "def delete_files():\n",
    "    try:\n",
    "        os.remove(PROB_FILE)\n",
    "    except OSError as e:  ## if failed, report it back to the user ##\n",
    "        print (\"Error: %s - %s.\" % (e.filename, e.strerror))\n",
    "    try:\n",
    "        os.remove(COUNT_FILE)\n",
    "    except OSError as e:  ## if failed, report it back to the user ##\n",
    "        print (\"Error: %s - %s.\" % (e.filename, e.strerror))"
   ]
  },
  {
   "cell_type": "code",
   "execution_count": null,
   "metadata": {},
   "outputs": [],
   "source": [
    "delete_files()"
   ]
  },
  {
   "cell_type": "code",
   "execution_count": null,
   "metadata": {},
   "outputs": [],
   "source": []
  }
 ],
 "metadata": {
  "colab": {
   "collapsed_sections": [],
   "name": "assignment(2).ipynb",
   "provenance": []
  },
  "kernelspec": {
   "display_name": "Python 3",
   "language": "python",
   "name": "python3"
  },
  "language_info": {
   "codemirror_mode": {
    "name": "ipython",
    "version": 3
   },
   "file_extension": ".py",
   "mimetype": "text/x-python",
   "name": "python",
   "nbconvert_exporter": "python",
   "pygments_lexer": "ipython3",
   "version": "3.6.5"
  }
 },
 "nbformat": 4,
 "nbformat_minor": 1
}
