{
 "cells": [
  {
   "cell_type": "code",
   "execution_count": 1,
   "metadata": {},
   "outputs": [],
   "source": [
    "import sqlite3\n",
    "import os\n",
    "import string"
   ]
  },
  {
   "cell_type": "code",
   "execution_count": 2,
   "metadata": {},
   "outputs": [],
   "source": [
    "#con.close()"
   ]
  },
  {
   "cell_type": "code",
   "execution_count": 3,
   "metadata": {},
   "outputs": [],
   "source": [
    "os.remove('TransProb_100.db')\n"
   ]
  },
  {
   "cell_type": "code",
   "execution_count": 4,
   "metadata": {},
   "outputs": [],
   "source": [
    "con = sqlite3.connect('TransProb_100.db')"
   ]
  },
  {
   "cell_type": "code",
   "execution_count": 5,
   "metadata": {},
   "outputs": [],
   "source": [
    "crsr = con.cursor()"
   ]
  },
  {
   "cell_type": "code",
   "execution_count": 6,
   "metadata": {},
   "outputs": [
    {
     "data": {
      "text/plain": [
       "'\\ntry:\\n    dele = \"DROP TABLE TransProb\"\\n    crsr.execute(dele)\\nexcept:\\n    print(\\'Error\\')\\n'"
      ]
     },
     "execution_count": 6,
     "metadata": {},
     "output_type": "execute_result"
    }
   ],
   "source": [
    "\n",
    "'''\n",
    "try:\n",
    "    dele = \"DROP TABLE TransProb\"\n",
    "    crsr.execute(dele)\n",
    "except:\n",
    "    print('Error')\n",
    "'''"
   ]
  },
  {
   "cell_type": "code",
   "execution_count": 7,
   "metadata": {},
   "outputs": [],
   "source": [
    "create_table = \"\"\"CREATE TABLE TransProb(\n",
    "ENG_WORD VARCHAR(20) NOT NULL,\n",
    "DUT_WORD VARCHAR(20) NOT NULL,\n",
    "PROBABILITY FLOAT(12,10) NOT NULL,\n",
    "PRIMARY KEY (ENG_WORD,DUT_WORD));\n",
    "\"\"\"\n",
    "\n",
    "cluster_index=\"\"\"CREATE INDEX IX_ED_T ON TransProb (\n",
    "\t\"ENG_WORD\",\n",
    "\t\"DUT_WORD\"\n",
    ");\"\"\"\n",
    "\n",
    "DUT_INDEX =\"\"\"\n",
    "        CREATE INDEX IX_DUT ON TransProb (DUT_WORD);\n",
    "\"\"\"\n",
    "\n",
    "ENG_INDEX =\"\"\"\n",
    "        CREATE INDEX IX_ENG ON TransProb (ENG_WORD);\n",
    "\"\"\"\n",
    "\n",
    "\n",
    "\n",
    "\n"
   ]
  },
  {
   "cell_type": "code",
   "execution_count": 8,
   "metadata": {},
   "outputs": [],
   "source": [
    "create_table_c = \"\"\"CREATE TABLE Count(\n",
    "ENG_WORD VARCHAR(20) NOT NULL,\n",
    "DUT_WORD VARCHAR(20) NOT NULL,\n",
    "PROBABILITY FLOAT(12,10) NOT NULL,\n",
    "PRIMARY KEY (ENG_WORD,DUT_WORD));\n",
    "\"\"\"\n",
    "\n",
    "cluster_index_c=\"\"\"CREATE INDEX IX_ED ON Count (\n",
    "\t\"ENG_WORD\",\n",
    "\t\"DUT_WORD\"\n",
    ");\"\"\""
   ]
  },
  {
   "cell_type": "code",
   "execution_count": 9,
   "metadata": {},
   "outputs": [
    {
     "data": {
      "text/plain": [
       "<sqlite3.Cursor at 0x256751bd960>"
      ]
     },
     "execution_count": 9,
     "metadata": {},
     "output_type": "execute_result"
    }
   ],
   "source": [
    "crsr.execute(create_table_c)\n",
    "crsr.execute(cluster_index_c)"
   ]
  },
  {
   "cell_type": "code",
   "execution_count": 10,
   "metadata": {},
   "outputs": [
    {
     "data": {
      "text/plain": [
       "<sqlite3.Cursor at 0x256751bd960>"
      ]
     },
     "execution_count": 10,
     "metadata": {},
     "output_type": "execute_result"
    }
   ],
   "source": [
    "crsr.execute(create_table)"
   ]
  },
  {
   "cell_type": "code",
   "execution_count": 11,
   "metadata": {},
   "outputs": [],
   "source": [
    "#crsr.execute(DUT_INDEX)\n",
    "#crsr.execute(ENG_INDEX)"
   ]
  },
  {
   "cell_type": "code",
   "execution_count": 12,
   "metadata": {},
   "outputs": [
    {
     "data": {
      "text/plain": [
       "<sqlite3.Cursor at 0x256751bd960>"
      ]
     },
     "execution_count": 12,
     "metadata": {},
     "output_type": "execute_result"
    }
   ],
   "source": [
    "crsr.execute(cluster_index)"
   ]
  },
  {
   "cell_type": "code",
   "execution_count": 13,
   "metadata": {},
   "outputs": [],
   "source": [
    "import time\n",
    "import os"
   ]
  },
  {
   "cell_type": "code",
   "execution_count": 14,
   "metadata": {},
   "outputs": [],
   "source": [
    "\n",
    "UPDATED_ENGLISH_FILE = 'English_Updated.txt'\n",
    "UPDATED_DUTCH_FILE = 'Dutch_Updated.txt'\n",
    "\n",
    "\n",
    "ENG_TEST_FILE = 'eng.txt'\n",
    "DUTCH_TEST_FILE = 'dutch.txt'"
   ]
  },
  {
   "cell_type": "code",
   "execution_count": 15,
   "metadata": {},
   "outputs": [],
   "source": [
    "e_file = open(UPDATED_ENGLISH_FILE,'r',encoding = 'utf-8')\n",
    "d_file = open(UPDATED_DUTCH_FILE,'r',encoding = 'utf-8')"
   ]
  },
  {
   "cell_type": "code",
   "execution_count": 16,
   "metadata": {},
   "outputs": [],
   "source": [
    "dutch = d_file.readlines()\n",
    "eng = e_file.readlines()"
   ]
  },
  {
   "cell_type": "code",
   "execution_count": 17,
   "metadata": {},
   "outputs": [],
   "source": [
    "def remove_punc(l,lang):\n",
    "    \n",
    "    for i in range(len(l)):\n",
    "        l[i] = l[i][:-1].lower()\n",
    "        l[i] = remove_stopwords(l[i],lang)\n",
    "        l[i] = remove_stuff(l[i])\n",
    "    return l\n",
    "\n",
    "def remove_stopwords(l,lang):\n",
    "    eng_sw=['of', 'the', 'i', 'on', 'and', 'would', 'to', 'you', 'a', 'in', 'that', 'as', 'have', 'for', 'be', 'from', 'it', 'at', 'can', 'an', 'has', 'the', 'it', 'is', 'not', 'with', 'we', 'by', 'this', 'we', 'are', 'more', 'our', 'or', 'also', 'these', 'but', 'must']\n",
    "    dut_sw=['van', 'de', 'ik', 'aan', 'en', 'zou', 'naar', 'u', 'een', 'in', 'dat', 'als', 'hebben', 'voor', 'worden', 'van', 'het', 'bij', 'kan', 'een', 'heeft', 'de', 'het', 'is', 'niet', 'met', 'wij', 'door', 'deze', 'wij', 'zijn', 'meer', 'onze', 'of', 'ook', 'deze', 'maar', 'moet']\n",
    "    eng_sw = [i.lower() for i in eng_sw]\n",
    "    dut_sw = [i.lower() for i in dut_sw]\n",
    "    \n",
    "    words = l.split()\n",
    "    s = []\n",
    "    \n",
    "    if lang =='dutch':\n",
    "        for i in words:\n",
    "            if i not in dut_sw:\n",
    "                s.append(i)\n",
    "    elif lang =='eng':\n",
    "        for i in words:\n",
    "            if i not in eng_sw:\n",
    "                s.append(i)\n",
    "    return ' '.join(s)\n",
    "\n",
    "def remove_stuff(l):\n",
    "    #a = [ ':','.' , '\\\\' , '/' , ',' , ';' , '(' , ')' , '\"', \"\\'\",'1','2','3','4','5','6','7','8','9','0','?']\n",
    "    for i in string.punctuation + string.digits:\n",
    "        l = l.replace(i, \"\")\n",
    "    \n",
    "    return l"
   ]
  },
  {
   "cell_type": "code",
   "execution_count": 18,
   "metadata": {},
   "outputs": [],
   "source": [
    "dutch2 = remove_punc(dutch,'dutch')\n",
    "eng2 = remove_punc(eng,'eng')"
   ]
  },
  {
   "cell_type": "code",
   "execution_count": null,
   "metadata": {},
   "outputs": [],
   "source": []
  },
  {
   "cell_type": "code",
   "execution_count": 19,
   "metadata": {},
   "outputs": [],
   "source": [
    "def assign_line_no(doc,dict_lo):\n",
    "    for i in range(len(doc)):\n",
    "        t = doc[i].split()\n",
    "        for m in t:\n",
    "            dict_lo[m].add(i)\n",
    "    return dict_lo"
   ]
  },
  {
   "cell_type": "code",
   "execution_count": 20,
   "metadata": {},
   "outputs": [],
   "source": [
    "from collections import defaultdict"
   ]
  },
  {
   "cell_type": "code",
   "execution_count": 21,
   "metadata": {},
   "outputs": [],
   "source": [
    "dutch_line_no = defaultdict(set)\n",
    "eng_line_no = defaultdict(set)"
   ]
  },
  {
   "cell_type": "code",
   "execution_count": 22,
   "metadata": {},
   "outputs": [
    {
     "data": {
      "text/plain": [
       "0"
      ]
     },
     "execution_count": 22,
     "metadata": {},
     "output_type": "execute_result"
    }
   ],
   "source": [
    "#dutch_line_no\n",
    "len(dutch_line_no)"
   ]
  },
  {
   "cell_type": "code",
   "execution_count": 23,
   "metadata": {},
   "outputs": [],
   "source": [
    "dutch_line_no = assign_line_no(dutch2, dutch_line_no)\n",
    "eng_line_no = assign_line_no(eng2, eng_line_no)"
   ]
  },
  {
   "cell_type": "code",
   "execution_count": 24,
   "metadata": {},
   "outputs": [],
   "source": [
    "def initialize(foreign_no_of_words,foreign_l,english_l):\n",
    "    count = 0\n",
    "    init_prob = 1/foreign_no_of_words\n",
    "    for i in english_l.keys():\n",
    "        for j in foreign_l.keys():\n",
    "            c = [i,j,init_prob]\n",
    "            c1 = [i,j,0]\n",
    "            try:\n",
    "                crsr.execute(\"INSERT INTO TransProb(ENG_WORD, DUT_WORD, PROBABILITY) VALUES(?,?,?)\",tuple(c))\n",
    "                crsr.execute(\"INSERT INTO Count(ENG_WORD, DUT_WORD, PROBABILITY) VALUES(?,?,?)\",tuple(c1))\n",
    "            except:\n",
    "                print(c)\n",
    "        if count>=100:\n",
    "            con.commit()\n",
    "            count = 0\n",
    "        #print(count)\n",
    "        count+=1\n",
    "    con.commit()\n",
    "    return True"
   ]
  },
  {
   "cell_type": "code",
   "execution_count": 25,
   "metadata": {},
   "outputs": [],
   "source": [
    "b_val = initialize(len(dutch_line_no), dutch_line_no, eng_line_no)"
   ]
  },
  {
   "cell_type": "code",
   "execution_count": 26,
   "metadata": {},
   "outputs": [
    {
     "data": {
      "text/plain": [
       "7164"
      ]
     },
     "execution_count": 26,
     "metadata": {},
     "output_type": "execute_result"
    }
   ],
   "source": [
    "len(dutch_line_no)"
   ]
  },
  {
   "cell_type": "code",
   "execution_count": 27,
   "metadata": {},
   "outputs": [],
   "source": [
    "t = set()\n",
    "for k,v in dutch_line_no.items():\n",
    "    if len((v))==1:\n",
    "        t.add(list(v)[0])"
   ]
  },
  {
   "cell_type": "code",
   "execution_count": 28,
   "metadata": {},
   "outputs": [
    {
     "data": {
      "text/plain": [
       "3494"
      ]
     },
     "execution_count": 28,
     "metadata": {},
     "output_type": "execute_result"
    }
   ],
   "source": [
    "len(t)"
   ]
  },
  {
   "cell_type": "code",
   "execution_count": null,
   "metadata": {},
   "outputs": [],
   "source": []
  }
 ],
 "metadata": {
  "kernelspec": {
   "display_name": "Python 3",
   "language": "python",
   "name": "python3"
  },
  "language_info": {
   "codemirror_mode": {
    "name": "ipython",
    "version": 3
   },
   "file_extension": ".py",
   "mimetype": "text/x-python",
   "name": "python",
   "nbconvert_exporter": "python",
   "pygments_lexer": "ipython3",
   "version": "3.6.5"
  }
 },
 "nbformat": 4,
 "nbformat_minor": 2
}
