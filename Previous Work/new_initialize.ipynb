{
 "cells": [
  {
   "cell_type": "code",
   "execution_count": null,
   "metadata": {},
   "outputs": [],
   "source": [
    "def initialize(foreign_no_of_words,foreign_l,english_l,num_dict_dutch,num_dict_eng):\n",
    "    probabilities = {} # Initializing proablities\n",
    "    #count = {} # Count\n",
    "    counter = 1\n",
    "    index = -1*(foreign_no_of_words)\n",
    "    \n",
    "    num_dict_dutch = make_dict_dutch(foreign_l,num_dict_dutch)\n",
    "    \n",
    "    for i in english_l.keys():\n",
    "        for j in foreign_l.keys():\n",
    "            s = i+\"_\"+j\n",
    "            probabilities[s] = 1/foreign_no_of_words\n",
    "\n",
    "            #count[s] = 0\n",
    "        \n",
    "        index = write_to_file(probabilities,i,counter,PROB_FILE,foreign_no_of_words,index,num_dict_eng)\n",
    "        #write_to_file(count,i,counter,COUNT_FILE)\n",
    "        counter +=1\n",
    "        probabilities ={}\n",
    "        \n",
    "    return True"
   ]
  },
  {
   "cell_type": "code",
   "execution_count": null,
   "metadata": {},
   "outputs": [],
   "source": [
    "def assign_line_no(doc1,doc2,foreign_no_of_words):\n",
    "    dict_lo = defaultdict(set)\n",
    "    for i in range(len(doc)):\n",
    "        t1 = doc1[i].split()\n",
    "        t2 = doc2[i].split()\n",
    "        for j in t1:\n",
    "            for k in t2:\n",
    "                probabilities[s] = 1/foreign_no_of_words\n",
    "                add\n",
    "        '''\n",
    "        for m in t:\n",
    "            dict_lo[m].add(i)\n",
    "        '''\n",
    "    return probabilities"
   ]
  },
  {
   "cell_type": "code",
   "execution_count": null,
   "metadata": {},
   "outputs": [],
   "source": [
    "for i in dutch2:\n",
    "    for j in eng2:"
   ]
  }
 ],
 "metadata": {
  "kernelspec": {
   "display_name": "Python 3",
   "language": "python",
   "name": "python3"
  },
  "language_info": {
   "codemirror_mode": {
    "name": "ipython",
    "version": 3
   },
   "file_extension": ".py",
   "mimetype": "text/x-python",
   "name": "python",
   "nbconvert_exporter": "python",
   "pygments_lexer": "ipython3",
   "version": "3.6.5"
  }
 },
 "nbformat": 4,
 "nbformat_minor": 2
}
