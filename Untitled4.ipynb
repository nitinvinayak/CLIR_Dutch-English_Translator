{
 "cells": [
  {
   "cell_type": "code",
   "execution_count": 6,
   "metadata": {},
   "outputs": [
    {
     "name": "stdout",
     "output_type": "stream",
     "text": [
      "['ik', 'me', 'mijn', 'mezelf', 'wij', 'onze', 'Onze', 'onszelf', 'u', 'uw', 'uw', 'jezelf', 'uzelf', 'hij', 'hem', 'zijn', 'zichzelf', 'ze', 'haar', 'zijn', 'zichzelf', 'het', 'haar', 'zelf', 'ze', 'hen', 'hun', 'hun', 'zich', 'wat', 'welke', 'wie', 'wie', 'deze', 'dat', 'deze', 'die', 'am', 'is', 'zijn', 'was', 'waren', 'worden', 'geweest', 'wezen', 'hebben', 'heeft', 'had', 'met', 'Doen', 'doet', 'deed', 'doen', 'een', 'een', 'de', 'en', 'maar', 'als', 'of', 'omdat', 'als', 'tot', 'terwijl', 'van', 'Bij', 'door', 'voor', 'met', 'over', 'tegen', 'tussen', 'in', 'door', 'gedurende', 'voordat', 'na', 'bovenstaande', 'beneden', 'naar', 'van', 'omhoog', 'beneden', 'in', 'uit', 'Aan', 'uit', 'over-', 'onder', 'opnieuw', 'verder', 'vervolgens', 'eenmaal', 'hier', 'Daar', 'wanneer', 'waar', 'waarom', 'hoe', 'allemaal', 'ieder', 'beide', 'elk', 'weinig', 'meer', 'meest', 'anders', 'sommige', 'zodanig', 'Nee', 'noch', 'niet', 'alleen', 'eigen', 'dezelfde', 'zo', 'dan', 'te', 'heel', 's', 't', 'kan', 'zullen', 'net', 'don', 'moeten', 'nu']\n"
     ]
    }
   ],
   "source": [
    "ifile=open(\"NLTK's list of english stopwords.en.nl.txt\",\"r\")\n",
    "s=ifile.readlines()\n",
    "t=[]\n",
    "for i in s:\n",
    "    t.append(i.rstrip())\n",
    "print(t)"
   ]
  },
  {
   "cell_type": "code",
   "execution_count": null,
   "metadata": {},
   "outputs": [],
   "source": []
  }
 ],
 "metadata": {
  "kernelspec": {
   "display_name": "Python 3",
   "language": "python",
   "name": "python3"
  },
  "language_info": {
   "codemirror_mode": {
    "name": "ipython",
    "version": 3
   },
   "file_extension": ".py",
   "mimetype": "text/x-python",
   "name": "python",
   "nbconvert_exporter": "python",
   "pygments_lexer": "ipython3",
   "version": "3.6.5"
  }
 },
 "nbformat": 4,
 "nbformat_minor": 2
}
