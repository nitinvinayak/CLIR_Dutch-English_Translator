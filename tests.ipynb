{
 "cells": [
  {
   "cell_type": "code",
   "execution_count": 5,
   "metadata": {},
   "outputs": [
    {
     "ename": "FileNotFoundError",
     "evalue": "[Errno 2] No such file or directory: 'Dutch_Updated.txt'",
     "output_type": "error",
     "traceback": [
      "\u001b[0;31m---------------------------------------------------------------------------\u001b[0m",
      "\u001b[0;31mFileNotFoundError\u001b[0m                         Traceback (most recent call last)",
      "\u001b[0;32m<ipython-input-5-bbf92f6ed567>\u001b[0m in \u001b[0;36m<module>\u001b[0;34m\u001b[0m\n\u001b[0;32m----> 1\u001b[0;31m \u001b[0mdfile\u001b[0m\u001b[0;34m=\u001b[0m\u001b[0mopen\u001b[0m\u001b[0;34m(\u001b[0m\u001b[0;34m\"Dutch_Updated.txt\"\u001b[0m\u001b[0;34m,\u001b[0m\u001b[0;34m\"r\"\u001b[0m\u001b[0;34m,\u001b[0m\u001b[0mencoding\u001b[0m\u001b[0;34m=\u001b[0m\u001b[0;34m\"utf-8\"\u001b[0m\u001b[0;34m)\u001b[0m\u001b[0;34m\u001b[0m\u001b[0;34m\u001b[0m\u001b[0m\n\u001b[0m\u001b[1;32m      2\u001b[0m \u001b[0msentences\u001b[0m\u001b[0;34m=\u001b[0m\u001b[0mdfile\u001b[0m\u001b[0;34m.\u001b[0m\u001b[0mreadlines\u001b[0m\u001b[0;34m(\u001b[0m\u001b[0;34m)\u001b[0m\u001b[0;34m\u001b[0m\u001b[0;34m\u001b[0m\u001b[0m\n\u001b[1;32m      3\u001b[0m \u001b[0mcount\u001b[0m\u001b[0;34m=\u001b[0m\u001b[0;36m0\u001b[0m\u001b[0;34m\u001b[0m\u001b[0;34m\u001b[0m\u001b[0m\n\u001b[1;32m      4\u001b[0m \u001b[0md\u001b[0m\u001b[0;34m=\u001b[0m\u001b[0;34m{\u001b[0m\u001b[0;34m}\u001b[0m\u001b[0;34m\u001b[0m\u001b[0;34m\u001b[0m\u001b[0m\n\u001b[1;32m      5\u001b[0m \u001b[0;32mfor\u001b[0m \u001b[0mi\u001b[0m\u001b[0;34m,\u001b[0m\u001b[0msen\u001b[0m \u001b[0;32min\u001b[0m \u001b[0menumerate\u001b[0m\u001b[0;34m(\u001b[0m\u001b[0msentences\u001b[0m\u001b[0;34m)\u001b[0m\u001b[0;34m:\u001b[0m\u001b[0;34m\u001b[0m\u001b[0;34m\u001b[0m\u001b[0m\n",
      "\u001b[0;31mFileNotFoundError\u001b[0m: [Errno 2] No such file or directory: 'Dutch_Updated.txt'"
     ]
    }
   ],
   "source": [
    "dfile=open(\"Dutch_Updated.txt\",\"r\",encoding=\"utf-8\")\n",
    "sentences=dfile.readlines()\n",
    "count=0\n",
    "d={}\n",
    "for i,sen in enumerate(sentences):\n",
    "    terms=sen.split()\n",
    "    for term in terms:\n",
    "        if term not in d.keys():\n",
    "            d[term]=1\n",
    "        else:\n",
    "            d[term]+=1\n",
    "    print(len(d))"
   ]
  },
  {
   "cell_type": "code",
   "execution_count": 3,
   "metadata": {},
   "outputs": [
    {
     "name": "stdout",
     "output_type": "stream",
     "text": [
      "461873280155991268647848675842678436258222237210808549688061259854743222985970612853265533393192754089021808312106003185825011475285375820517848712082477740204435657343915205014113907676842904651310846184877645773827553398648702940609486584838970031798556882749839282685873088762298337027662451668322197897187569079964449817352525408539030852268275063902003125077828219106449695952131612520312124565587746388148600738568927224444887497977605751046479511272264363713178199505643189283236049919179792246019408249710015571883973483236341800062755286521887354144446650606843333861336027529992517232166068731738999957986905199765657269223755658226269451974604115982368084246590378172562997607978123634115997824095186178079037645434789473797208636656158629799526039121760162400571518250809140685512326290384288921861043909644392844397499591596500742068936940885030771139876913932891723621561144772898134842624423809652925173711832926424120344922549955554526063896095038487578596034096931514347357067422513014383657647484624611316001048978671640009620469794593116806982157953935803500172578082949315877052226679270457533066170931193127504857805234793449064564129217908821684254292482559491678608886972311226764297744269491739972964246734879824016799441522533230545280120302314355521868146316630236090295784093715794831287740989549515141352466191173942320422957366683152737015487277257489755668943823325426565478520501477671070066212790383959458044780090478975628779938058856050892714829615076246575713673443770191015756769774248657557234606679677225296344073405565325412673777340187394788469792186607493733242712414542317714580287279251715572976002125154845718434402931339080037657746737047222195065878672084033868631559307836506209965611016052138491773507111534233253761500417266897850911366022579817955039846923135310268885102844611994118\n"
     ]
    }
   ],
   "source": [
    "dfile=open(\"Dutch_Updated.txt\",\"r\",encoding=\"utf-8\")\n",
    "efile=open(\"English_Updated.txt\",\"r\",encoding=\"utf-8\")\n",
    "d_sentences=dfile.readlines()\n",
    "e_sentences=efile.readlines()\n",
    "#alignments=[]\n",
    "sum=0\n",
    "for i in range(len(d_sentences)):\n",
    "    #alignments.append(pow(len(d_sentences[i].split()),len(e_sentences[i].split()))\n",
    "    sum+=pow(len(d_sentences[i].split()),len(e_sentences[i].split()))\n",
    "    \n",
    "print (sum)"
   ]
  },
  {
   "cell_type": "code",
   "execution_count": 6,
   "metadata": {},
   "outputs": [
    {
     "data": {
      "text/plain": [
       "159930094020"
      ]
     },
     "execution_count": 6,
     "metadata": {},
     "output_type": "execute_result"
    }
   ],
   "source": [
    "527420*303231"
   ]
  },
  {
   "cell_type": "code",
   "execution_count": 5,
   "metadata": {},
   "outputs": [
    {
     "name": "stdout",
     "output_type": "stream",
     "text": [
      "1702641927\n"
     ]
    }
   ],
   "source": [
    "dfile=open(\"Dutch_Updated.txt\",\"r\",encoding=\"utf-8\")\n",
    "efile=open(\"English_Updated.txt\",\"r\",encoding=\"utf-8\")\n",
    "d_sentences=dfile.readlines()\n",
    "e_sentences=efile.readlines()\n",
    "#alignments=[]\n",
    "sum=0\n",
    "for i in range(len(d_sentences)):\n",
    "    #alignments.append(pow(len(d_sentences[i].split()),len(e_sentences[i].split()))\n",
    "    sum+=(len(d_sentences[i].split())*len(e_sentences[i].split()))\n",
    "    \n",
    "print (sum)"
   ]
  },
  {
   "cell_type": "code",
   "execution_count": null,
   "metadata": {},
   "outputs": [],
   "source": []
  }
 ],
 "metadata": {
  "kernelspec": {
   "display_name": "Python 3",
   "language": "python",
   "name": "python3"
  },
  "language_info": {
   "codemirror_mode": {
    "name": "ipython",
    "version": 3
   },
   "file_extension": ".py",
   "mimetype": "text/x-python",
   "name": "python",
   "nbconvert_exporter": "python",
   "pygments_lexer": "ipython3",
   "version": "3.6.5"
  }
 },
 "nbformat": 4,
 "nbformat_minor": 2
}
