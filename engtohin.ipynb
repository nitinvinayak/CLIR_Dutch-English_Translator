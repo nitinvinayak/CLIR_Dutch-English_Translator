{
 "cells": [
  {
   "cell_type": "code",
   "execution_count": 2,
   "metadata": {},
   "outputs": [],
   "source": [
    "h = [\"kutta bhauka\",\"kutta kaata\"]\n",
    "e = [\"dog barked\",\"dog bit\"]"
   ]
  },
  {
   "cell_type": "code",
   "execution_count": 3,
   "metadata": {},
   "outputs": [],
   "source": [
    "l = h[0].split()\n",
    "l.extend(h[1].split())\n",
    "hv = list(set(l))\n",
    "l = e[0].split()\n",
    "l.extend(e[1].split())\n",
    "ev = list(set(l))\n",
    "#print(ev)"
   ]
  },
  {
   "cell_type": "code",
   "execution_count": 4,
   "metadata": {},
   "outputs": [],
   "source": [
    "def init_prob():\n",
    "    p = {}\n",
    "    k = [[],[]]\n",
    "    for i in range(len(h)):\n",
    "        p[k[i]] = 1/(len(ev))\n",
    "        print(k[i] + \":\" + str(p[k[i]]))"
   ]
  },
  {
   "cell_type": "code",
   "execution_count": null,
   "metadata": {},
   "outputs": [],
   "source": []
  }
 ],
 "metadata": {
  "kernelspec": {
   "display_name": "Python 3",
   "language": "python",
   "name": "python3"
  },
  "language_info": {
   "codemirror_mode": {
    "name": "ipython",
    "version": 3
   },
   "file_extension": ".py",
   "mimetype": "text/x-python",
   "name": "python",
   "nbconvert_exporter": "python",
   "pygments_lexer": "ipython3",
   "version": "3.6.5"
  }
 },
 "nbformat": 4,
 "nbformat_minor": 2
}
